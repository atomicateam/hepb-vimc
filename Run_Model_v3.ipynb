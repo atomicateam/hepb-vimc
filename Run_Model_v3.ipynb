{
 "cells": [
  {
   "cell_type": "code",
   "execution_count": 1,
   "id": "05659e03",
   "metadata": {
    "ExecuteTime": {
     "end_time": "2023-01-31T01:23:00.537052Z",
     "start_time": "2023-01-31T01:22:58.700554Z"
    }
   },
   "outputs": [],
   "source": [
    "import atomica as at\n",
    "import matplotlib.pyplot as plt\n",
    "import pandas as pd\n",
    "import numpy as np\n",
    "from hep_b_vimc_functions_v0 import load_cen_project, load_sto_project, input_results, \\\n",
    "central_results, stochastic_results"
   ]
  },
  {
   "cell_type": "code",
   "execution_count": 2,
   "id": "f4e20689",
   "metadata": {
    "ExecuteTime": {
     "end_time": "2023-01-31T01:23:00.552055Z",
     "start_time": "2023-01-31T01:23:00.538053Z"
    }
   },
   "outputs": [],
   "source": [
    "n_samples = 30\n",
    "fw = 'hbv_v14_gamma_3.xlsx' \n",
    "db_n = \"AFR_db_v1_3_no_vax.xlsx\"\n",
    "db_v = \"AFR_db_v1_3.xlsx\"\n",
    "cl = 'AFR_calib_v1_2.xlsx' \n",
    "seed = 310123"
   ]
  },
  {
   "cell_type": "markdown",
   "id": "76acee1c",
   "metadata": {},
   "source": [
    "# No Vaccination Scenario"
   ]
  },
  {
   "cell_type": "markdown",
   "id": "aa0b4564",
   "metadata": {},
   "source": [
    "## Input Results"
   ]
  },
  {
   "cell_type": "code",
   "execution_count": 3,
   "id": "3e53a6ca",
   "metadata": {
    "ExecuteTime": {
     "end_time": "2023-01-30T09:30:45.924792Z",
     "start_time": "2023-01-30T09:29:59.115611Z"
    },
    "collapsed": true
   },
   "outputs": [
    {
     "name": "stdout",
     "output_type": "stream",
     "text": [
      "Elapsed time for running \"default\": 1.40s\n",
      "Elapsed time for running \"default\": 1.49s\n",
      "Elapsed time for running \"default\": 1.43s\n",
      "Elapsed time for running \"default\": 1.43s\n",
      "Elapsed time for running \"default\": 1.43s\n",
      "Elapsed time for running \"default\": 1.42s\n",
      "Elapsed time for running \"default\": 1.43s\n",
      "Elapsed time for running \"default\": 1.43s\n",
      "Elapsed time for running \"default\": 1.53s\n",
      "Elapsed time for running \"default\": 1.43s\n",
      "Elapsed time for running \"default\": 1.46s\n",
      "Elapsed time for running \"default\": 1.43s\n",
      "Elapsed time for running \"default\": 1.44s\n",
      "Elapsed time for running \"default\": 1.43s\n",
      "Elapsed time for running \"default\": 1.49s\n",
      "Elapsed time for running \"default\": 1.47s\n",
      "Elapsed time for running \"default\": 1.59s\n",
      "Elapsed time for running \"default\": 1.42s\n",
      "Elapsed time for running \"default\": 1.43s\n",
      "Elapsed time for running \"default\": 1.45s\n",
      "Elapsed time for running \"default\": 1.44s\n",
      "Elapsed time for running \"default\": 1.42s\n",
      "Elapsed time for running \"default\": 1.45s\n",
      "Elapsed time for running \"default\": 1.44s\n",
      "Elapsed time for running \"default\": 1.46s\n",
      "Elapsed time for running \"default\": 1.42s\n",
      "Elapsed time for running \"default\": 1.64s\n",
      "Elapsed time for running \"default\": 1.42s\n",
      "Elapsed time for running \"default\": 1.41s\n",
      "Elapsed time for running \"default\": 1.43s\n"
     ]
    }
   ],
   "source": [
    "in_df_n = input_results(n_samples, fw = fw, db = db_n)"
   ]
  },
  {
   "cell_type": "code",
   "execution_count": 5,
   "id": "6dc93fe3",
   "metadata": {
    "ExecuteTime": {
     "end_time": "2023-01-30T09:31:32.919441Z",
     "start_time": "2023-01-30T09:31:32.904438Z"
    }
   },
   "outputs": [],
   "source": [
    "# in_df_n.to_csv('input_results_novax_230130_2.csv', index = False)"
   ]
  },
  {
   "cell_type": "markdown",
   "id": "e9a580ff",
   "metadata": {},
   "source": [
    "## Central Results"
   ]
  },
  {
   "cell_type": "code",
   "execution_count": null,
   "id": "d15bff2b",
   "metadata": {
    "ExecuteTime": {
     "end_time": "2023-01-29T23:47:31.679872Z",
     "start_time": "2023-01-29T23:45:31.241251Z"
    }
   },
   "outputs": [],
   "source": [
    "cen_df_n = central_results(fw = fw,db = db_n)"
   ]
  },
  {
   "cell_type": "code",
   "execution_count": null,
   "id": "2374e9d6",
   "metadata": {
    "ExecuteTime": {
     "end_time": "2023-01-29T23:47:31.726835Z",
     "start_time": "2023-01-29T23:47:31.680872Z"
    }
   },
   "outputs": [],
   "source": [
    "# cen_df_n.to_csv('central_results_novax_230130.csv', index = False)"
   ]
  },
  {
   "cell_type": "markdown",
   "id": "aef61775",
   "metadata": {},
   "source": [
    "## Stochastic Results"
   ]
  },
  {
   "cell_type": "code",
   "execution_count": null,
   "id": "4fc8faab",
   "metadata": {
    "ExecuteTime": {
     "end_time": "2023-01-30T04:24:29.076616Z",
     "start_time": "2023-01-30T03:25:25.939488Z"
    }
   },
   "outputs": [],
   "source": [
    "final_df_n = stochastic_results(n_samples,fw = fw, db = db_n)"
   ]
  },
  {
   "cell_type": "code",
   "execution_count": null,
   "id": "6a89e511",
   "metadata": {
    "ExecuteTime": {
     "end_time": "2023-01-30T04:24:30.363768Z",
     "start_time": "2023-01-30T04:24:29.080617Z"
    }
   },
   "outputs": [],
   "source": [
    "# final_df_n.to_csv('stochastic_results_novax_230130.csv', index = False)"
   ]
  },
  {
   "cell_type": "markdown",
   "id": "5143e9a5",
   "metadata": {},
   "source": [
    "# Vaccination Scenario"
   ]
  },
  {
   "cell_type": "markdown",
   "id": "a1002ce9",
   "metadata": {},
   "source": [
    "## Input Results"
   ]
  },
  {
   "cell_type": "code",
   "execution_count": 4,
   "id": "55b8d7fa",
   "metadata": {
    "ExecuteTime": {
     "end_time": "2023-01-30T09:31:32.903437Z",
     "start_time": "2023-01-30T09:30:45.925792Z"
    },
    "collapsed": true
   },
   "outputs": [
    {
     "name": "stdout",
     "output_type": "stream",
     "text": [
      "Elapsed time for running \"default\": 1.41s\n",
      "Elapsed time for running \"default\": 1.51s\n",
      "Elapsed time for running \"default\": 1.44s\n",
      "Elapsed time for running \"default\": 1.46s\n",
      "Elapsed time for running \"default\": 1.44s\n",
      "Elapsed time for running \"default\": 1.44s\n",
      "Elapsed time for running \"default\": 1.43s\n",
      "Elapsed time for running \"default\": 1.55s\n",
      "Elapsed time for running \"default\": 1.43s\n",
      "Elapsed time for running \"default\": 1.41s\n",
      "Elapsed time for running \"default\": 1.45s\n",
      "Elapsed time for running \"default\": 1.44s\n",
      "Elapsed time for running \"default\": 1.44s\n",
      "Elapsed time for running \"default\": 1.44s\n",
      "Elapsed time for running \"default\": 1.45s\n",
      "Elapsed time for running \"default\": 1.59s\n",
      "Elapsed time for running \"default\": 1.44s\n",
      "Elapsed time for running \"default\": 1.42s\n",
      "Elapsed time for running \"default\": 1.45s\n",
      "Elapsed time for running \"default\": 1.45s\n",
      "Elapsed time for running \"default\": 1.43s\n",
      "Elapsed time for running \"default\": 1.45s\n",
      "Elapsed time for running \"default\": 1.41s\n",
      "Elapsed time for running \"default\": 1.46s\n",
      "Elapsed time for running \"default\": 1.63s\n",
      "Elapsed time for running \"default\": 1.44s\n",
      "Elapsed time for running \"default\": 1.45s\n",
      "Elapsed time for running \"default\": 1.45s\n",
      "Elapsed time for running \"default\": 1.43s\n",
      "Elapsed time for running \"default\": 1.42s\n"
     ]
    }
   ],
   "source": [
    "in_df_v = input_results(n_samples,fw = fw, db = db_v)"
   ]
  },
  {
   "cell_type": "code",
   "execution_count": 6,
   "id": "c07805de",
   "metadata": {
    "ExecuteTime": {
     "end_time": "2023-01-30T09:31:32.935445Z",
     "start_time": "2023-01-30T09:31:32.920441Z"
    }
   },
   "outputs": [],
   "source": [
    "# in_df_v.to_csv('input_results_vax_230130_2.csv', index = False)"
   ]
  },
  {
   "cell_type": "markdown",
   "id": "c5a26d22",
   "metadata": {},
   "source": [
    "## Central Results"
   ]
  },
  {
   "cell_type": "code",
   "execution_count": 3,
   "id": "fa4ecda5",
   "metadata": {
    "ExecuteTime": {
     "end_time": "2023-01-31T01:25:00.163927Z",
     "start_time": "2023-01-31T01:23:01.260275Z"
    }
   },
   "outputs": [
    {
     "name": "stdout",
     "output_type": "stream",
     "text": [
      "Elapsed time for running \"default\": 1.38s\n"
     ]
    }
   ],
   "source": [
    "cen_df_v = central_results(fw = fw,db = db_v)"
   ]
  },
  {
   "cell_type": "code",
   "execution_count": null,
   "id": "fc39b723",
   "metadata": {
    "ExecuteTime": {
     "end_time": "2023-01-30T00:50:27.449701Z",
     "start_time": "2023-01-30T00:50:27.386614Z"
    }
   },
   "outputs": [],
   "source": [
    "# cen_df_v.to_csv('central_results_vax_230130.csv', index = False)"
   ]
  },
  {
   "cell_type": "markdown",
   "id": "14953cdf",
   "metadata": {},
   "source": [
    "## Stochastic Results"
   ]
  },
  {
   "cell_type": "code",
   "execution_count": null,
   "id": "149c04fb",
   "metadata": {
    "ExecuteTime": {
     "end_time": "2023-01-30T05:24:27.180914Z",
     "start_time": "2023-01-30T04:25:18.383354Z"
    }
   },
   "outputs": [],
   "source": [
    "final_df_v = stochastic_results(n_samples,fw = fw, db = db_v)"
   ]
  },
  {
   "cell_type": "code",
   "execution_count": null,
   "id": "c9b6e598",
   "metadata": {
    "ExecuteTime": {
     "end_time": "2023-01-30T05:24:28.480279Z",
     "start_time": "2023-01-30T05:24:27.185914Z"
    }
   },
   "outputs": [],
   "source": [
    "# final_df_v.to_csv('stochastic_results_vax_230130.csv', index = False)"
   ]
  },
  {
   "cell_type": "markdown",
   "id": "74b312bb",
   "metadata": {},
   "source": []
  },
  {
   "cell_type": "code",
   "execution_count": 4,
   "id": "cbc5845c",
   "metadata": {
    "ExecuteTime": {
     "end_time": "2023-01-31T01:25:00.179934Z",
     "start_time": "2023-01-31T01:25:00.164928Z"
    }
   },
   "outputs": [
    {
     "data": {
      "text/html": [
       "<div>\n",
       "<style scoped>\n",
       "    .dataframe tbody tr th:only-of-type {\n",
       "        vertical-align: middle;\n",
       "    }\n",
       "\n",
       "    .dataframe tbody tr th {\n",
       "        vertical-align: top;\n",
       "    }\n",
       "\n",
       "    .dataframe thead th {\n",
       "        text-align: right;\n",
       "    }\n",
       "</style>\n",
       "<table border=\"1\" class=\"dataframe\">\n",
       "  <thead>\n",
       "    <tr style=\"text-align: right;\">\n",
       "      <th></th>\n",
       "      <th>disease</th>\n",
       "      <th>year</th>\n",
       "      <th>age</th>\n",
       "      <th>country</th>\n",
       "      <th>country_name</th>\n",
       "      <th>cohort_size</th>\n",
       "      <th>cases</th>\n",
       "      <th>dalys</th>\n",
       "      <th>deaths</th>\n",
       "    </tr>\n",
       "  </thead>\n",
       "  <tbody>\n",
       "    <tr>\n",
       "      <th>0</th>\n",
       "      <td>HepB</td>\n",
       "      <td>2000</td>\n",
       "      <td>0</td>\n",
       "      <td>RFP</td>\n",
       "      <td>Request for Proposal</td>\n",
       "      <td>4.788461e+06</td>\n",
       "      <td>63591.399047</td>\n",
       "      <td>3853.751281</td>\n",
       "      <td>69.299642</td>\n",
       "    </tr>\n",
       "    <tr>\n",
       "      <th>1</th>\n",
       "      <td>HepB</td>\n",
       "      <td>2001</td>\n",
       "      <td>0</td>\n",
       "      <td>RFP</td>\n",
       "      <td>Request for Proposal</td>\n",
       "      <td>4.942008e+06</td>\n",
       "      <td>65539.111059</td>\n",
       "      <td>3970.525454</td>\n",
       "      <td>71.394088</td>\n",
       "    </tr>\n",
       "    <tr>\n",
       "      <th>2</th>\n",
       "      <td>HepB</td>\n",
       "      <td>2002</td>\n",
       "      <td>0</td>\n",
       "      <td>RFP</td>\n",
       "      <td>Request for Proposal</td>\n",
       "      <td>5.086190e+06</td>\n",
       "      <td>67284.998527</td>\n",
       "      <td>4079.905589</td>\n",
       "      <td>73.349536</td>\n",
       "    </tr>\n",
       "    <tr>\n",
       "      <th>3</th>\n",
       "      <td>HepB</td>\n",
       "      <td>2003</td>\n",
       "      <td>0</td>\n",
       "      <td>RFP</td>\n",
       "      <td>Request for Proposal</td>\n",
       "      <td>5.218897e+06</td>\n",
       "      <td>68764.728781</td>\n",
       "      <td>4181.091219</td>\n",
       "      <td>75.152453</td>\n",
       "    </tr>\n",
       "    <tr>\n",
       "      <th>4</th>\n",
       "      <td>HepB</td>\n",
       "      <td>2004</td>\n",
       "      <td>0</td>\n",
       "      <td>RFP</td>\n",
       "      <td>Request for Proposal</td>\n",
       "      <td>5.339080e+06</td>\n",
       "      <td>70034.244181</td>\n",
       "      <td>4274.182115</td>\n",
       "      <td>76.806950</td>\n",
       "    </tr>\n",
       "    <tr>\n",
       "      <th>...</th>\n",
       "      <td>...</td>\n",
       "      <td>...</td>\n",
       "      <td>...</td>\n",
       "      <td>...</td>\n",
       "      <td>...</td>\n",
       "      <td>...</td>\n",
       "      <td>...</td>\n",
       "      <td>...</td>\n",
       "      <td>...</td>\n",
       "    </tr>\n",
       "    <tr>\n",
       "      <th>10196</th>\n",
       "      <td>HepB</td>\n",
       "      <td>2096</td>\n",
       "      <td>100</td>\n",
       "      <td>RFP</td>\n",
       "      <td>Request for Proposal</td>\n",
       "      <td>4.668195e+03</td>\n",
       "      <td>0.011990</td>\n",
       "      <td>9.521749</td>\n",
       "      <td>0.968334</td>\n",
       "    </tr>\n",
       "    <tr>\n",
       "      <th>10197</th>\n",
       "      <td>HepB</td>\n",
       "      <td>2097</td>\n",
       "      <td>100</td>\n",
       "      <td>RFP</td>\n",
       "      <td>Request for Proposal</td>\n",
       "      <td>4.890543e+03</td>\n",
       "      <td>0.011992</td>\n",
       "      <td>9.715281</td>\n",
       "      <td>0.988930</td>\n",
       "    </tr>\n",
       "    <tr>\n",
       "      <th>10198</th>\n",
       "      <td>HepB</td>\n",
       "      <td>2098</td>\n",
       "      <td>100</td>\n",
       "      <td>RFP</td>\n",
       "      <td>Request for Proposal</td>\n",
       "      <td>5.116927e+03</td>\n",
       "      <td>0.011980</td>\n",
       "      <td>9.898359</td>\n",
       "      <td>1.008456</td>\n",
       "    </tr>\n",
       "    <tr>\n",
       "      <th>10199</th>\n",
       "      <td>HepB</td>\n",
       "      <td>2099</td>\n",
       "      <td>100</td>\n",
       "      <td>RFP</td>\n",
       "      <td>Request for Proposal</td>\n",
       "      <td>5.373442e+03</td>\n",
       "      <td>0.012014</td>\n",
       "      <td>10.119845</td>\n",
       "      <td>1.031946</td>\n",
       "    </tr>\n",
       "    <tr>\n",
       "      <th>10200</th>\n",
       "      <td>HepB</td>\n",
       "      <td>2100</td>\n",
       "      <td>100</td>\n",
       "      <td>RFP</td>\n",
       "      <td>Request for Proposal</td>\n",
       "      <td>5.672649e+03</td>\n",
       "      <td>0.012114</td>\n",
       "      <td>10.409780</td>\n",
       "      <td>1.061500</td>\n",
       "    </tr>\n",
       "  </tbody>\n",
       "</table>\n",
       "<p>10201 rows × 9 columns</p>\n",
       "</div>"
      ],
      "text/plain": [
       "      disease  year  age country          country_name   cohort_size  \\\n",
       "0        HepB  2000    0     RFP  Request for Proposal  4.788461e+06   \n",
       "1        HepB  2001    0     RFP  Request for Proposal  4.942008e+06   \n",
       "2        HepB  2002    0     RFP  Request for Proposal  5.086190e+06   \n",
       "3        HepB  2003    0     RFP  Request for Proposal  5.218897e+06   \n",
       "4        HepB  2004    0     RFP  Request for Proposal  5.339080e+06   \n",
       "...       ...   ...  ...     ...                   ...           ...   \n",
       "10196    HepB  2096  100     RFP  Request for Proposal  4.668195e+03   \n",
       "10197    HepB  2097  100     RFP  Request for Proposal  4.890543e+03   \n",
       "10198    HepB  2098  100     RFP  Request for Proposal  5.116927e+03   \n",
       "10199    HepB  2099  100     RFP  Request for Proposal  5.373442e+03   \n",
       "10200    HepB  2100  100     RFP  Request for Proposal  5.672649e+03   \n",
       "\n",
       "              cases        dalys     deaths  \n",
       "0      63591.399047  3853.751281  69.299642  \n",
       "1      65539.111059  3970.525454  71.394088  \n",
       "2      67284.998527  4079.905589  73.349536  \n",
       "3      68764.728781  4181.091219  75.152453  \n",
       "4      70034.244181  4274.182115  76.806950  \n",
       "...             ...          ...        ...  \n",
       "10196      0.011990     9.521749   0.968334  \n",
       "10197      0.011992     9.715281   0.988930  \n",
       "10198      0.011980     9.898359   1.008456  \n",
       "10199      0.012014    10.119845   1.031946  \n",
       "10200      0.012114    10.409780   1.061500  \n",
       "\n",
       "[10201 rows x 9 columns]"
      ]
     },
     "execution_count": 4,
     "metadata": {},
     "output_type": "execute_result"
    }
   ],
   "source": [
    "cen_df_v"
   ]
  },
  {
   "cell_type": "code",
   "execution_count": null,
   "id": "ce3492a0",
   "metadata": {},
   "outputs": [],
   "source": []
  }
 ],
 "metadata": {
  "kernelspec": {
   "display_name": "Python [conda env:torch] *",
   "language": "python",
   "name": "conda-env-torch-py"
  },
  "language_info": {
   "codemirror_mode": {
    "name": "ipython",
    "version": 3
   },
   "file_extension": ".py",
   "mimetype": "text/x-python",
   "name": "python",
   "nbconvert_exporter": "python",
   "pygments_lexer": "ipython3",
   "version": "3.7.11"
  },
  "toc": {
   "base_numbering": 1,
   "nav_menu": {},
   "number_sections": true,
   "sideBar": true,
   "skip_h1_title": false,
   "title_cell": "Table of Contents",
   "title_sidebar": "Contents",
   "toc_cell": false,
   "toc_position": {},
   "toc_section_display": true,
   "toc_window_display": true
  }
 },
 "nbformat": 4,
 "nbformat_minor": 5
}
