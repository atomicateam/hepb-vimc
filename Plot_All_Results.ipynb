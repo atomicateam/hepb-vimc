{
 "cells": [
  {
   "cell_type": "code",
   "execution_count": 2,
   "id": "cfd2f87f",
   "metadata": {
    "ExecuteTime": {
     "end_time": "2023-01-30T08:05:34.616125Z",
     "start_time": "2023-01-30T08:05:33.166902Z"
    }
   },
   "outputs": [],
   "source": [
    "import atomica as at\n",
    "import matplotlib.pyplot as plt\n",
    "import pandas as pd\n",
    "import numpy as np\n",
    "from hep_b_vimc_functions_v0 import load_cen_project, load_sto_project, input_results, \\\n",
    "central_results, stochastic_results, plot_all"
   ]
  },
  {
   "cell_type": "markdown",
   "id": "0ec6b97d",
   "metadata": {},
   "source": [
    "# Accessing individual simulations\n",
    "\n",
    "Select one scenario (default or no vaccination) before you run the code by commenting out the other scenario.\n",
    "\n",
    "## Central Results"
   ]
  },
  {
   "cell_type": "code",
   "execution_count": 3,
   "id": "45c40e8b",
   "metadata": {
    "ExecuteTime": {
     "end_time": "2023-01-30T08:05:41.610870Z",
     "start_time": "2023-01-30T08:05:34.617124Z"
    }
   },
   "outputs": [
    {
     "name": "stdout",
     "output_type": "stream",
     "text": [
      "Elapsed time for running \"default\": 1.40s\n",
      "Elapsed time for running \"default\": 1.39s\n"
     ]
    }
   ],
   "source": [
    "# Default Scenario (Central)\n",
    "P, res = load_cen_project(fw = 'hbv_v14_gamma_3.xlsx', db = \"AFR_db_v1_3.xlsx\")\n",
    "\n",
    "# No Vaccination Scenario (Central)\n",
    "P, res = load_cen_project(fw = 'hbv_v14_gamma_3.xlsx', db = \"AFR_db_v1_3_no_vax.xlsx\")"
   ]
  },
  {
   "cell_type": "markdown",
   "id": "741e8eda",
   "metadata": {},
   "source": [
    "## Stochastic Results"
   ]
  },
  {
   "cell_type": "code",
   "execution_count": 16,
   "id": "f7a092f6",
   "metadata": {
    "ExecuteTime": {
     "end_time": "2023-01-30T09:39:55.746265Z",
     "start_time": "2023-01-30T09:38:22.532486Z"
    },
    "collapsed": true
   },
   "outputs": [
    {
     "name": "stdout",
     "output_type": "stream",
     "text": [
      "Elapsed time for running \"default\": 1.52s\n",
      "Elapsed time for running \"default\": 1.43s\n",
      "Elapsed time for running \"default\": 1.41s\n",
      "Elapsed time for running \"default\": 1.45s\n",
      "Elapsed time for running \"default\": 1.43s\n",
      "Elapsed time for running \"default\": 1.44s\n",
      "Elapsed time for running \"default\": 1.44s\n",
      "Elapsed time for running \"default\": 1.55s\n",
      "Elapsed time for running \"default\": 1.45s\n",
      "Elapsed time for running \"default\": 1.49s\n",
      "Elapsed time for running \"default\": 1.39s\n",
      "Elapsed time for running \"default\": 1.43s\n",
      "Elapsed time for running \"default\": 1.45s\n",
      "Elapsed time for running \"default\": 1.44s\n",
      "Elapsed time for running \"default\": 1.45s\n",
      "Elapsed time for running \"default\": 1.48s\n",
      "Elapsed time for running \"default\": 1.63s\n",
      "Elapsed time for running \"default\": 1.43s\n",
      "Elapsed time for running \"default\": 1.46s\n",
      "Elapsed time for running \"default\": 1.44s\n",
      "Elapsed time for running \"default\": 1.42s\n",
      "Elapsed time for running \"default\": 1.46s\n",
      "Elapsed time for running \"default\": 1.43s\n",
      "Elapsed time for running \"default\": 1.45s\n",
      "Elapsed time for running \"default\": 1.43s\n",
      "Elapsed time for running \"default\": 1.43s\n",
      "Elapsed time for running \"default\": 1.39s\n",
      "Elapsed time for running \"default\": 1.64s\n",
      "Elapsed time for running \"default\": 1.43s\n",
      "Elapsed time for running \"default\": 1.43s\n",
      "Elapsed time for running \"default\": 1.42s\n",
      "Elapsed time for running \"default\": 1.45s\n",
      "Elapsed time for running \"default\": 1.43s\n",
      "Elapsed time for running \"default\": 1.46s\n",
      "Elapsed time for running \"default\": 1.44s\n",
      "Elapsed time for running \"default\": 1.74s\n",
      "Elapsed time for running \"default\": 1.43s\n",
      "Elapsed time for running \"default\": 1.40s\n",
      "Elapsed time for running \"default\": 1.42s\n",
      "Elapsed time for running \"default\": 1.42s\n",
      "Elapsed time for running \"default\": 1.40s\n",
      "Elapsed time for running \"default\": 1.43s\n",
      "Elapsed time for running \"default\": 1.45s\n",
      "Elapsed time for running \"default\": 1.43s\n",
      "Elapsed time for running \"default\": 1.47s\n",
      "Elapsed time for running \"default\": 1.45s\n",
      "Elapsed time for running \"default\": 1.44s\n",
      "Elapsed time for running \"default\": 1.45s\n",
      "Elapsed time for running \"default\": 1.42s\n",
      "Elapsed time for running \"default\": 1.44s\n",
      "Elapsed time for running \"default\": 1.42s\n",
      "Elapsed time for running \"default\": 1.44s\n",
      "Elapsed time for running \"default\": 1.39s\n",
      "Elapsed time for running \"default\": 1.44s\n",
      "Elapsed time for running \"default\": 1.81s\n",
      "Elapsed time for running \"default\": 1.43s\n",
      "Elapsed time for running \"default\": 1.42s\n",
      "Elapsed time for running \"default\": 1.47s\n",
      "Elapsed time for running \"default\": 1.48s\n",
      "Elapsed time for running \"default\": 1.45s\n"
     ]
    }
   ],
   "source": [
    "# Default Scenario (Stochastic)\n",
    "P, parsets, results = load_sto_project(n_samples = 30, fw = 'hbv_v14_gamma_3.xlsx', db = \"AFR_db_v1_3.xlsx\")\n",
    "\n",
    "# No Vaccination Scenario (Stochastic)\n",
    "P, parsets, results = load_sto_project(n_samples = 30, fw = 'hbv_v14_gamma_3.xlsx', db = \"AFR_db_v1_3_no_vax.xlsx\")"
   ]
  },
  {
   "cell_type": "markdown",
   "id": "2bb63d58",
   "metadata": {},
   "source": [
    "# Plotting input result example\n",
    "\n",
    "Demonstrate how to extract input results (boxplot)\n",
    "\n",
    "## First load the parameter dataframe\n",
    "NOTE: not all variable combinations are available, as certain variables are only non-zero for younger populations (all vaccine effectiveness and `ci_p`)"
   ]
  },
  {
   "cell_type": "code",
   "execution_count": 4,
   "id": "f9237699",
   "metadata": {
    "ExecuteTime": {
     "end_time": "2023-01-30T09:11:32.978312Z",
     "start_time": "2023-01-30T09:11:32.925300Z"
    }
   },
   "outputs": [],
   "source": [
    "in_n = pd.read_csv('input_results_novax_230130.csv')"
   ]
  },
  {
   "cell_type": "code",
   "execution_count": null,
   "id": "a2b8dfb6",
   "metadata": {},
   "outputs": [],
   "source": [
    "# possible parameters\n",
    "nathis = ['ci_p', 'm_acu', 'm_dc', 'm_hcc']\n",
    "trtinv = ['te_dc_cc', 'te_icl_ict', 'te_icl_cc', 'te_cc_dc', 'te_cc_hcc', 'te_ie_cc', 'te_m_dc', 'te_m_hcc', 'te_ict_hcc', 'te_ie_hcc', 'te_icl_hcc', 'te_dc_hcc']\n",
    "vacinv = ['eag_ve', 'sag_ve', 'hb3_ve', 'mav_ve']\n",
    "\n",
    "# possible ages\n",
    "ages = ['0-4', '5-14', '15-49', '50-69', '70+']\n",
    "\n",
    "# Possible sexes\n",
    "sexes = ['M', 'F']"
   ]
  },
  {
   "cell_type": "code",
   "execution_count": 12,
   "id": "92907206",
   "metadata": {
    "ExecuteTime": {
     "end_time": "2023-01-30T09:35:01.650208Z",
     "start_time": "2023-01-30T09:35:01.636198Z"
    }
   },
   "outputs": [],
   "source": [
    "# State an input parameter, age group, and sex that you would like to observe\n",
    "input_par = 'te_m_dc'\n",
    "age = '5-14'\n",
    "sex = 'M'"
   ]
  },
  {
   "cell_type": "code",
   "execution_count": 13,
   "id": "401a582b",
   "metadata": {
    "ExecuteTime": {
     "end_time": "2023-01-30T09:35:03.652952Z",
     "start_time": "2023-01-30T09:35:03.588912Z"
    }
   },
   "outputs": [
    {
     "data": {
      "text/plain": [
       "<AxesSubplot:>"
      ]
     },
     "execution_count": 13,
     "metadata": {},
     "output_type": "execute_result"
    },
    {
     "data": {
      "image/png": "[encoded data removed]",
      "text/plain": [
       "<Figure size 432x288 with 1 Axes>"
      ]
     },
     "metadata": {
      "needs_background": "light"
     },
     "output_type": "display_data"
    }
   ],
   "source": [
    "in_n.boxplot(column = [f'{input_par}_{age}{sex}'])"
   ]
  },
  {
   "cell_type": "markdown",
   "id": "f6d0b66e",
   "metadata": {},
   "source": [
    "# Plotting output result example (using atomica projects)\n",
    "\n",
    "Variables relevant to the VIMC analysis:\n",
    "- Cohort size, `'alive'`\n",
    "- Cases, `'tot_inc'`\n",
    "- DALYs, `'dalys'`\n",
    "- Deaths, `{'tot_deaths':'cl_acu+cl_dc+cl_hcc'}`\n",
    "    - Acute HepB-related deaths, `'cl_acu'`\n",
    "    - Decompensated Cirrhosis-related deaths, `'cl_dc'`\n",
    "    - Hepatocellular Carcinoma-related deaths, `'cl_hcc'`"
   ]
  },
  {
   "cell_type": "code",
   "execution_count": 22,
   "id": "a54a0d90",
   "metadata": {
    "ExecuteTime": {
     "end_time": "2023-01-30T12:23:49.468877Z",
     "start_time": "2023-01-30T12:23:49.452873Z"
    }
   },
   "outputs": [],
   "source": [
    "# State an output, age group and sex of the plot you would like to observe \n",
    "output = 'alive'\n",
    "age = '0-4' # [0-4, 5-14, 15-49, 50-69, 70+]\n",
    "sex = 'M'\n",
    "\n",
    "# For stochastic outputs, you may view the result of any run\n",
    "run_no = 25"
   ]
  },
  {
   "cell_type": "markdown",
   "id": "53b78ee6",
   "metadata": {},
   "source": [
    "## Other noteworthy output parameters:\n",
    "- People living with chronic hepatitis B, `chb_pop`\n",
    "- Prevalence of chronic hepatitis B, `prev`\n",
    "- People living with hepatocellular carcinoma attributable to HBV, `hepcc`\n",
    "- Chronic hepatitis B: Diagnosed Population, `diag`\n",
    "- Proportion of people with the hepatitis B vaccine, `{'vac_prop':'vax/alive'}`"
   ]
  },
  {
   "cell_type": "code",
   "execution_count": 20,
   "id": "77802083",
   "metadata": {
    "ExecuteTime": {
     "end_time": "2023-01-30T12:23:07.584401Z",
     "start_time": "2023-01-30T12:23:07.493875Z"
    }
   },
   "outputs": [
    {
     "data": {
      "text/plain": [
       "[<Figure size 432x288 with 1 Axes>]"
      ]
     },
     "execution_count": 20,
     "metadata": {},
     "output_type": "execute_result"
    },
    {
     "data": {
      "image/png": "[encoded data removed]",
      "text/plain": [
       "<Figure size 432x288 with 1 Axes>"
      ]
     },
     "metadata": {
      "needs_background": "light"
     },
     "output_type": "display_data"
    }
   ],
   "source": [
    "d=at.PlotData([res], outputs=[output], pops = f'{age}{sex}')\n",
    "at.plot_series(d, data=P.data, axis=\"results\")"
   ]
  },
  {
   "cell_type": "code",
   "execution_count": 23,
   "id": "9ff64dee",
   "metadata": {
    "ExecuteTime": {
     "end_time": "2023-01-30T12:23:52.268037Z",
     "start_time": "2023-01-30T12:23:52.190015Z"
    }
   },
   "outputs": [
    {
     "data": {
      "text/plain": [
       "[<Figure size 432x288 with 1 Axes>]"
      ]
     },
     "execution_count": 23,
     "metadata": {},
     "output_type": "execute_result"
    },
    {
     "data": {
      "image/png": "[encoded data removed]",
      "text/plain": [
       "<Figure size 432x288 with 1 Axes>"
      ]
     },
     "metadata": {
      "needs_background": "light"
     },
     "output_type": "display_data"
    }
   ],
   "source": [
    "d=at.PlotData([results[run_no]], outputs=[\"alive\"], pops = f'{age}{sex}')\n",
    "at.plot_series(d, data=P.data, axis=\"results\")"
   ]
  },
  {
   "cell_type": "markdown",
   "id": "9dc1aba3",
   "metadata": {},
   "source": [
    "# Plotting output results (via csv)\n",
    "\n",
    "The output of these plots (in our example) are a set of 30 time series of each output parameter (Cohort Size, Cases, DALYs, Deaths) foun in the csv.\n",
    "\n",
    "Here is some additional code to analyse the results from the output csvs.\n",
    "\n",
    "Since the cohort is separated by 1-year age bins, we selected an age that is representative of each of the original age groups in the transmission model:\n",
    "- 0-4 years: 1 year olds\n",
    "- 5-14 years: 10 year olds\n",
    "- 15-49 years: 30 year olds\n",
    "- 50-69 years: 60 year olds\n",
    "- 70+ years: 80 year olds\n",
    "\n",
    "Of course, you may change this input parameter to observe other populations."
   ]
  },
  {
   "cell_type": "markdown",
   "id": "9a93a114",
   "metadata": {},
   "source": [
    "## Load no-vax results"
   ]
  },
  {
   "cell_type": "code",
   "execution_count": null,
   "id": "1722d385",
   "metadata": {},
   "outputs": [],
   "source": [
    "in_df_n = pd.read_csv('input_results_novax_230130.csv')\n",
    "cen_df_n = pd.read_csv('central_results_novax_230130.csv')\n",
    "sto_df_n = pd.read_csv('stochastic_results_novax_230130.csv')"
   ]
  },
  {
   "cell_type": "markdown",
   "id": "d7047ee6",
   "metadata": {},
   "source": [
    "## Load vax results"
   ]
  },
  {
   "cell_type": "code",
   "execution_count": null,
   "id": "33b4ca44",
   "metadata": {},
   "outputs": [],
   "source": [
    "in_df_v = pd.read_csv('input_results_vax_230130.csv')\n",
    "cen_df_v = pd.read_csv('central_results_vax_230130.csv')\n",
    "sto_df_v = pd.read_csv('stochastic_results_vax_230130.csv')"
   ]
  },
  {
   "cell_type": "markdown",
   "id": "bb45128f",
   "metadata": {},
   "source": [
    "## Plot no-vax results"
   ]
  },
  {
   "cell_type": "code",
   "execution_count": null,
   "id": "e7e629f8",
   "metadata": {},
   "outputs": [],
   "source": [
    "plot_all(cen_df = cen_df_n, sto_df = sto_df_n, age = 1)"
   ]
  },
  {
   "cell_type": "code",
   "execution_count": null,
   "id": "b8460946",
   "metadata": {},
   "outputs": [],
   "source": [
    "plot_all(cen_df_n, sto_df_n, 10)"
   ]
  },
  {
   "cell_type": "code",
   "execution_count": null,
   "id": "3ef3231b",
   "metadata": {},
   "outputs": [],
   "source": [
    "plot_all(cen_df_n, sto_df_n, 30)"
   ]
  },
  {
   "cell_type": "code",
   "execution_count": null,
   "id": "1944e6dd",
   "metadata": {},
   "outputs": [],
   "source": [
    "plot_all(cen_df_n, sto_df_n, 60)"
   ]
  },
  {
   "cell_type": "code",
   "execution_count": null,
   "id": "aa639723",
   "metadata": {},
   "outputs": [],
   "source": [
    "plot_all(cen_df_n, sto_df_n, 80)"
   ]
  },
  {
   "cell_type": "markdown",
   "id": "e23b8b90",
   "metadata": {},
   "source": [
    "## Plot vax results"
   ]
  },
  {
   "cell_type": "code",
   "execution_count": null,
   "id": "28207aa3",
   "metadata": {},
   "outputs": [],
   "source": [
    "plot_all(cen_df_v, sto_df_v, 1)"
   ]
  },
  {
   "cell_type": "code",
   "execution_count": null,
   "id": "c6878a7b",
   "metadata": {},
   "outputs": [],
   "source": [
    "plot_all(cen_df_v, sto_df_v, 10)"
   ]
  },
  {
   "cell_type": "code",
   "execution_count": null,
   "id": "fe87ed49",
   "metadata": {},
   "outputs": [],
   "source": [
    "plot_all(cen_df_v, sto_df_v, 30)"
   ]
  },
  {
   "cell_type": "code",
   "execution_count": null,
   "id": "8f047bc4",
   "metadata": {},
   "outputs": [],
   "source": [
    "plot_all(cen_df_v, sto_df_v, 60)"
   ]
  },
  {
   "cell_type": "code",
   "execution_count": null,
   "id": "5f8ffe9f",
   "metadata": {},
   "outputs": [],
   "source": [
    "plot_all(cen_df_v, sto_df_v, 80)"
   ]
  },
  {
   "cell_type": "code",
   "execution_count": null,
   "id": "e05a7760",
   "metadata": {},
   "outputs": [],
   "source": []
  }
 ],
 "metadata": {
  "kernelspec": {
   "display_name": "Python [conda env:torch] *",
   "language": "python",
   "name": "conda-env-torch-py"
  },
  "language_info": {
   "codemirror_mode": {
    "name": "ipython",
    "version": 3
   },
   "file_extension": ".py",
   "mimetype": "text/x-python",
   "name": "python",
   "nbconvert_exporter": "python",
   "pygments_lexer": "ipython3",
   "version": "3.7.11"
  },
  "toc": {
   "base_numbering": 1,
   "nav_menu": {},
   "number_sections": true,
   "sideBar": true,
   "skip_h1_title": false,
   "title_cell": "Table of Contents",
   "title_sidebar": "Contents",
   "toc_cell": false,
   "toc_position": {},
   "toc_section_display": true,
   "toc_window_display": true
  }
 },
 "nbformat": 4,
 "nbformat_minor": 5
}
