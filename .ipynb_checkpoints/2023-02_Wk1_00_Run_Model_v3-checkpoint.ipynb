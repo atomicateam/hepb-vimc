{
 "cells": [
  {
   "cell_type": "code",
   "execution_count": 1,
   "id": "05659e03",
   "metadata": {
    "ExecuteTime": {
     "end_time": "2023-01-30T03:19:41.841475Z",
     "start_time": "2023-01-30T03:19:40.699392Z"
    }
   },
   "outputs": [],
   "source": [
    "import atomica as at\n",
    "import matplotlib.pyplot as plt\n",
    "import pandas as pd\n",
    "import numpy as np\n",
    "from hep_b_vimc_functions_v0 import load_cen_project, load_sto_project, input_results, \\\n",
    "central_results, stochastic_results"
   ]
  },
  {
   "cell_type": "code",
   "execution_count": 2,
   "id": "f4e20689",
   "metadata": {
    "ExecuteTime": {
     "end_time": "2023-01-30T03:19:41.857479Z",
     "start_time": "2023-01-30T03:19:41.842475Z"
    }
   },
   "outputs": [],
   "source": [
    "n_samples = 30\n",
    "fw = 'hbv_v14_gamma_3.xlsx' \n",
    "db_n = \"AFR_db_v1_3_no_vax.xlsx\"\n",
    "db_v = \"AFR_db_v1_3.xlsx\"\n",
    "cl = 'AFR_calib_v1_2.xlsx' \n",
    "seed = 310123"
   ]
  },
  {
   "cell_type": "markdown",
   "id": "76acee1c",
   "metadata": {},
   "source": [
    "# No Vaccination Scenario"
   ]
  },
  {
   "cell_type": "markdown",
   "id": "aa0b4564",
   "metadata": {},
   "source": [
    "## Input Results"
   ]
  },
  {
   "cell_type": "code",
   "execution_count": 3,
   "id": "3e53a6ca",
   "metadata": {
    "ExecuteTime": {
     "end_time": "2023-01-30T03:20:31.062027Z",
     "start_time": "2023-01-30T03:19:44.787137Z"
    },
    "scrolled": true
   },
   "outputs": [
    {
     "name": "stdout",
     "output_type": "stream",
     "text": [
      "Elapsed time for running \"default\": 1.40s\n",
      "Elapsed time for running \"default\": 1.47s\n",
      "Elapsed time for running \"default\": 1.43s\n",
      "Elapsed time for running \"default\": 1.43s\n",
      "Elapsed time for running \"default\": 1.40s\n",
      "Elapsed time for running \"default\": 1.43s\n",
      "Elapsed time for running \"default\": 1.41s\n",
      "Elapsed time for running \"default\": 1.43s\n",
      "Elapsed time for running \"default\": 1.54s\n",
      "Elapsed time for running \"default\": 1.41s\n",
      "Elapsed time for running \"default\": 1.42s\n",
      "Elapsed time for running \"default\": 1.40s\n",
      "Elapsed time for running \"default\": 1.43s\n",
      "Elapsed time for running \"default\": 1.41s\n",
      "Elapsed time for running \"default\": 1.43s\n",
      "Elapsed time for running \"default\": 1.44s\n",
      "Elapsed time for running \"default\": 1.55s\n",
      "Elapsed time for running \"default\": 1.39s\n",
      "Elapsed time for running \"default\": 1.43s\n",
      "Elapsed time for running \"default\": 1.43s\n",
      "Elapsed time for running \"default\": 1.41s\n",
      "Elapsed time for running \"default\": 1.44s\n",
      "Elapsed time for running \"default\": 1.44s\n",
      "Elapsed time for running \"default\": 1.43s\n",
      "Elapsed time for running \"default\": 1.43s\n",
      "Elapsed time for running \"default\": 1.44s\n",
      "Elapsed time for running \"default\": 1.63s\n",
      "Elapsed time for running \"default\": 1.43s\n",
      "Elapsed time for running \"default\": 1.40s\n",
      "Elapsed time for running \"default\": 1.43s\n"
     ]
    }
   ],
   "source": [
    "in_df_n = input_results(n_samples, fw = fw, db = db_n)"
   ]
  },
  {
   "cell_type": "code",
   "execution_count": 24,
   "id": "6dc93fe3",
   "metadata": {
    "ExecuteTime": {
     "end_time": "2023-01-30T03:25:20.996766Z",
     "start_time": "2023-01-30T03:25:20.987763Z"
    }
   },
   "outputs": [],
   "source": [
    "# in_df_n.to_csv('input_results_novax_230130.csv', index = False)"
   ]
  },
  {
   "cell_type": "markdown",
   "id": "e9a580ff",
   "metadata": {},
   "source": [
    "## Central Results"
   ]
  },
  {
   "cell_type": "code",
   "execution_count": null,
   "id": "d15bff2b",
   "metadata": {
    "ExecuteTime": {
     "end_time": "2023-01-29T23:47:31.679872Z",
     "start_time": "2023-01-29T23:45:31.241251Z"
    }
   },
   "outputs": [],
   "source": [
    "cen_df_n = central_results(fw = fw,db = db_n)"
   ]
  },
  {
   "cell_type": "code",
   "execution_count": null,
   "id": "2374e9d6",
   "metadata": {
    "ExecuteTime": {
     "end_time": "2023-01-29T23:47:31.726835Z",
     "start_time": "2023-01-29T23:47:31.680872Z"
    }
   },
   "outputs": [],
   "source": [
    "# cen_df_n.to_csv('central_results_novax_230130.csv', index = False)"
   ]
  },
  {
   "cell_type": "markdown",
   "id": "aef61775",
   "metadata": {},
   "source": [
    "## Stochastic Results"
   ]
  },
  {
   "cell_type": "code",
   "execution_count": 25,
   "id": "4fc8faab",
   "metadata": {
    "ExecuteTime": {
     "end_time": "2023-01-30T04:24:29.076616Z",
     "start_time": "2023-01-30T03:25:25.939488Z"
    }
   },
   "outputs": [
    {
     "name": "stdout",
     "output_type": "stream",
     "text": [
      "Elapsed time for running \"default\": 1.52s\n",
      "Elapsed time for running \"default\": 1.44s\n",
      "Elapsed time for running \"default\": 1.43s\n",
      "Elapsed time for running \"default\": 1.44s\n",
      "Elapsed time for running \"default\": 1.45s\n",
      "Elapsed time for running \"default\": 1.45s\n",
      "Elapsed time for running \"default\": 1.45s\n",
      "Elapsed time for running \"default\": 1.55s\n",
      "Elapsed time for running \"default\": 1.42s\n",
      "Elapsed time for running \"default\": 1.43s\n",
      "Elapsed time for running \"default\": 1.44s\n",
      "Elapsed time for running \"default\": 1.40s\n",
      "Elapsed time for running \"default\": 1.43s\n",
      "Elapsed time for running \"default\": 1.43s\n",
      "Elapsed time for running \"default\": 1.56s\n",
      "Elapsed time for running \"default\": 1.44s\n",
      "Elapsed time for running \"default\": 1.43s\n",
      "Elapsed time for running \"default\": 1.44s\n",
      "Elapsed time for running \"default\": 1.42s\n",
      "Elapsed time for running \"default\": 1.43s\n",
      "Elapsed time for running \"default\": 1.44s\n",
      "Elapsed time for running \"default\": 1.42s\n",
      "Elapsed time for running \"default\": 1.45s\n",
      "Elapsed time for running \"default\": 1.44s\n",
      "Elapsed time for running \"default\": 1.65s\n",
      "Elapsed time for running \"default\": 1.45s\n",
      "Elapsed time for running \"default\": 1.45s\n",
      "Elapsed time for running \"default\": 1.44s\n",
      "Elapsed time for running \"default\": 1.44s\n",
      "Elapsed time for running \"default\": 1.41s\n",
      "Sim no 1\n",
      "cohort_size\n",
      "cases\n",
      "dalys\n",
      "Sim no 2\n",
      "cohort_size\n",
      "cases\n",
      "dalys\n",
      "Sim no 3\n",
      "cohort_size\n",
      "cases\n",
      "dalys\n",
      "Sim no 4\n",
      "cohort_size\n",
      "cases\n",
      "dalys\n",
      "Sim no 5\n",
      "cohort_size\n",
      "cases\n",
      "dalys\n",
      "Sim no 6\n",
      "cohort_size\n",
      "cases\n",
      "dalys\n",
      "Sim no 7\n",
      "cohort_size\n",
      "cases\n",
      "dalys\n",
      "Sim no 8\n",
      "cohort_size\n",
      "cases\n",
      "dalys\n",
      "Sim no 9\n",
      "cohort_size\n",
      "cases\n",
      "dalys\n",
      "Sim no 10\n",
      "cohort_size\n",
      "cases\n",
      "dalys\n",
      "Sim no 11\n",
      "cohort_size\n",
      "cases\n",
      "dalys\n",
      "Sim no 12\n",
      "cohort_size\n",
      "cases\n",
      "dalys\n",
      "Sim no 13\n",
      "cohort_size\n",
      "cases\n",
      "dalys\n",
      "Sim no 14\n",
      "cohort_size\n",
      "cases\n",
      "dalys\n",
      "Sim no 15\n",
      "cohort_size\n",
      "cases\n",
      "dalys\n",
      "Sim no 16\n",
      "cohort_size\n",
      "cases\n",
      "dalys\n",
      "Sim no 17\n",
      "cohort_size\n",
      "cases\n",
      "dalys\n",
      "Sim no 18\n",
      "cohort_size\n",
      "cases\n",
      "dalys\n",
      "Sim no 19\n",
      "cohort_size\n",
      "cases\n",
      "dalys\n",
      "Sim no 20\n",
      "cohort_size\n",
      "cases\n",
      "dalys\n",
      "Sim no 21\n",
      "cohort_size\n",
      "cases\n",
      "dalys\n",
      "Sim no 22\n",
      "cohort_size\n",
      "cases\n",
      "dalys\n",
      "Sim no 23\n",
      "cohort_size\n",
      "cases\n",
      "dalys\n",
      "Sim no 24\n",
      "cohort_size\n",
      "cases\n",
      "dalys\n",
      "Sim no 25\n",
      "cohort_size\n",
      "cases\n",
      "dalys\n",
      "Sim no 26\n",
      "cohort_size\n",
      "cases\n",
      "dalys\n",
      "Sim no 27\n",
      "cohort_size\n",
      "cases\n",
      "dalys\n",
      "Sim no 28\n",
      "cohort_size\n",
      "cases\n",
      "dalys\n",
      "Sim no 29\n",
      "cohort_size\n",
      "cases\n",
      "dalys\n",
      "Sim no 30\n",
      "cohort_size\n",
      "cases\n",
      "dalys\n"
     ]
    }
   ],
   "source": [
    "final_df_n = stochastic_results(n_samples,fw = fw, db = db_n)"
   ]
  },
  {
   "cell_type": "code",
   "execution_count": 26,
   "id": "6a89e511",
   "metadata": {
    "ExecuteTime": {
     "end_time": "2023-01-30T04:24:30.363768Z",
     "start_time": "2023-01-30T04:24:29.080617Z"
    }
   },
   "outputs": [],
   "source": [
    "# final_df_n.to_csv('stochastic_results_novax_230130.csv', index = False)"
   ]
  },
  {
   "cell_type": "markdown",
   "id": "5143e9a5",
   "metadata": {},
   "source": [
    "# Vaccination Scenario"
   ]
  },
  {
   "cell_type": "markdown",
   "id": "a1002ce9",
   "metadata": {},
   "source": [
    "## Input Results"
   ]
  },
  {
   "cell_type": "code",
   "execution_count": 27,
   "id": "55b8d7fa",
   "metadata": {
    "ExecuteTime": {
     "end_time": "2023-01-30T04:25:18.366848Z",
     "start_time": "2023-01-30T04:24:30.364768Z"
    }
   },
   "outputs": [
    {
     "name": "stdout",
     "output_type": "stream",
     "text": [
      "Elapsed time for running \"default\": 1.43s\n",
      "Elapsed time for running \"default\": 1.43s\n",
      "Elapsed time for running \"default\": 1.44s\n",
      "Elapsed time for running \"default\": 1.52s\n",
      "Elapsed time for running \"default\": 1.46s\n",
      "Elapsed time for running \"default\": 1.46s\n",
      "Elapsed time for running \"default\": 1.46s\n",
      "Elapsed time for running \"default\": 1.44s\n",
      "Elapsed time for running \"default\": 1.46s\n",
      "Elapsed time for running \"default\": 1.43s\n",
      "Elapsed time for running \"default\": 1.56s\n",
      "Elapsed time for running \"default\": 1.44s\n",
      "Elapsed time for running \"default\": 1.44s\n",
      "Elapsed time for running \"default\": 1.45s\n",
      "Elapsed time for running \"default\": 1.47s\n",
      "Elapsed time for running \"default\": 1.46s\n",
      "Elapsed time for running \"default\": 1.44s\n",
      "Elapsed time for running \"default\": 1.42s\n",
      "Elapsed time for running \"default\": 1.68s\n",
      "Elapsed time for running \"default\": 1.54s\n",
      "Elapsed time for running \"default\": 1.45s\n",
      "Elapsed time for running \"default\": 1.49s\n",
      "Elapsed time for running \"default\": 1.48s\n",
      "Elapsed time for running \"default\": 1.45s\n",
      "Elapsed time for running \"default\": 1.47s\n",
      "Elapsed time for running \"default\": 1.47s\n",
      "Elapsed time for running \"default\": 1.46s\n",
      "Elapsed time for running \"default\": 1.46s\n",
      "Elapsed time for running \"default\": 1.45s\n",
      "Elapsed time for running \"default\": 1.65s\n"
     ]
    }
   ],
   "source": [
    "in_df_v = input_results(n_samples,fw = fw, db = db_v)"
   ]
  },
  {
   "cell_type": "code",
   "execution_count": 28,
   "id": "c07805de",
   "metadata": {
    "ExecuteTime": {
     "end_time": "2023-01-30T04:25:18.382354Z",
     "start_time": "2023-01-30T04:25:18.368851Z"
    }
   },
   "outputs": [],
   "source": [
    "# in_df_v.to_csv('input_results_vax_230130.csv', index = False)"
   ]
  },
  {
   "cell_type": "markdown",
   "id": "c5a26d22",
   "metadata": {},
   "source": [
    "## Central Results"
   ]
  },
  {
   "cell_type": "code",
   "execution_count": null,
   "id": "fa4ecda5",
   "metadata": {
    "ExecuteTime": {
     "end_time": "2023-01-30T00:50:27.385611Z",
     "start_time": "2023-01-30T00:48:24.408068Z"
    }
   },
   "outputs": [],
   "source": [
    "cen_df_v = central_results(fw = fw,db = db_v)"
   ]
  },
  {
   "cell_type": "code",
   "execution_count": null,
   "id": "fc39b723",
   "metadata": {
    "ExecuteTime": {
     "end_time": "2023-01-30T00:50:27.449701Z",
     "start_time": "2023-01-30T00:50:27.386614Z"
    }
   },
   "outputs": [],
   "source": [
    "# cen_df_v.to_csv('central_results_vax_230130.csv', index = False)"
   ]
  },
  {
   "cell_type": "markdown",
   "id": "14953cdf",
   "metadata": {},
   "source": [
    "## Stochastic Results"
   ]
  },
  {
   "cell_type": "code",
   "execution_count": 29,
   "id": "149c04fb",
   "metadata": {
    "ExecuteTime": {
     "end_time": "2023-01-30T05:24:27.180914Z",
     "start_time": "2023-01-30T04:25:18.383354Z"
    }
   },
   "outputs": [
    {
     "name": "stdout",
     "output_type": "stream",
     "text": [
      "Elapsed time for running \"default\": 1.43s\n",
      "Elapsed time for running \"default\": 1.48s\n",
      "Elapsed time for running \"default\": 1.54s\n",
      "Elapsed time for running \"default\": 1.45s\n",
      "Elapsed time for running \"default\": 1.46s\n",
      "Elapsed time for running \"default\": 1.43s\n",
      "Elapsed time for running \"default\": 1.43s\n",
      "Elapsed time for running \"default\": 1.45s\n",
      "Elapsed time for running \"default\": 1.54s\n",
      "Elapsed time for running \"default\": 1.47s\n",
      "Elapsed time for running \"default\": 1.45s\n",
      "Elapsed time for running \"default\": 1.41s\n",
      "Elapsed time for running \"default\": 1.45s\n",
      "Elapsed time for running \"default\": 1.45s\n",
      "Elapsed time for running \"default\": 1.47s\n",
      "Elapsed time for running \"default\": 1.46s\n",
      "Elapsed time for running \"default\": 1.62s\n",
      "Elapsed time for running \"default\": 1.44s\n",
      "Elapsed time for running \"default\": 1.46s\n",
      "Elapsed time for running \"default\": 1.42s\n",
      "Elapsed time for running \"default\": 1.45s\n",
      "Elapsed time for running \"default\": 1.45s\n",
      "Elapsed time for running \"default\": 1.45s\n",
      "Elapsed time for running \"default\": 1.44s\n",
      "Elapsed time for running \"default\": 1.45s\n",
      "Elapsed time for running \"default\": 1.45s\n",
      "Elapsed time for running \"default\": 1.65s\n",
      "Elapsed time for running \"default\": 1.45s\n",
      "Elapsed time for running \"default\": 1.44s\n",
      "Elapsed time for running \"default\": 1.46s\n",
      "Sim no 1\n",
      "cohort_size\n",
      "cases\n",
      "dalys\n",
      "Sim no 2\n",
      "cohort_size\n",
      "cases\n",
      "dalys\n",
      "Sim no 3\n",
      "cohort_size\n",
      "cases\n",
      "dalys\n",
      "Sim no 4\n",
      "cohort_size\n",
      "cases\n",
      "dalys\n",
      "Sim no 5\n",
      "cohort_size\n",
      "cases\n",
      "dalys\n",
      "Sim no 6\n",
      "cohort_size\n",
      "cases\n",
      "dalys\n",
      "Sim no 7\n",
      "cohort_size\n",
      "cases\n",
      "dalys\n",
      "Sim no 8\n",
      "cohort_size\n",
      "cases\n",
      "dalys\n",
      "Sim no 9\n",
      "cohort_size\n",
      "cases\n",
      "dalys\n",
      "Sim no 10\n",
      "cohort_size\n",
      "cases\n",
      "dalys\n",
      "Sim no 11\n",
      "cohort_size\n",
      "cases\n",
      "dalys\n",
      "Sim no 12\n",
      "cohort_size\n",
      "cases\n",
      "dalys\n",
      "Sim no 13\n",
      "cohort_size\n",
      "cases\n",
      "dalys\n",
      "Sim no 14\n",
      "cohort_size\n",
      "cases\n",
      "dalys\n",
      "Sim no 15\n",
      "cohort_size\n",
      "cases\n",
      "dalys\n",
      "Sim no 16\n",
      "cohort_size\n",
      "cases\n",
      "dalys\n",
      "Sim no 17\n",
      "cohort_size\n",
      "cases\n",
      "dalys\n",
      "Sim no 18\n",
      "cohort_size\n",
      "cases\n",
      "dalys\n",
      "Sim no 19\n",
      "cohort_size\n",
      "cases\n",
      "dalys\n",
      "Sim no 20\n",
      "cohort_size\n",
      "cases\n",
      "dalys\n",
      "Sim no 21\n",
      "cohort_size\n",
      "cases\n",
      "dalys\n",
      "Sim no 22\n",
      "cohort_size\n",
      "cases\n",
      "dalys\n",
      "Sim no 23\n",
      "cohort_size\n",
      "cases\n",
      "dalys\n",
      "Sim no 24\n",
      "cohort_size\n",
      "cases\n",
      "dalys\n",
      "Sim no 25\n",
      "cohort_size\n",
      "cases\n",
      "dalys\n",
      "Sim no 26\n",
      "cohort_size\n",
      "cases\n",
      "dalys\n",
      "Sim no 27\n",
      "cohort_size\n",
      "cases\n",
      "dalys\n",
      "Sim no 28\n",
      "cohort_size\n",
      "cases\n",
      "dalys\n",
      "Sim no 29\n",
      "cohort_size\n",
      "cases\n",
      "dalys\n",
      "Sim no 30\n",
      "cohort_size\n",
      "cases\n",
      "dalys\n"
     ]
    }
   ],
   "source": [
    "final_df_v = stochastic_results(n_samples,fw = fw, db = db_v)"
   ]
  },
  {
   "cell_type": "code",
   "execution_count": 30,
   "id": "c9b6e598",
   "metadata": {
    "ExecuteTime": {
     "end_time": "2023-01-30T05:24:28.480279Z",
     "start_time": "2023-01-30T05:24:27.185914Z"
    }
   },
   "outputs": [],
   "source": [
    "# final_df_v.to_csv('stochastic_results_vax_230130.csv', index = False)"
   ]
  }
 ],
 "metadata": {
  "kernelspec": {
   "display_name": "Python [conda env:torch] *",
   "language": "python",
   "name": "conda-env-torch-py"
  },
  "language_info": {
   "codemirror_mode": {
    "name": "ipython",
    "version": 3
   },
   "file_extension": ".py",
   "mimetype": "text/x-python",
   "name": "python",
   "nbconvert_exporter": "python",
   "pygments_lexer": "ipython3",
   "version": "3.7.11"
  },
  "toc": {
   "base_numbering": 1,
   "nav_menu": {},
   "number_sections": true,
   "sideBar": true,
   "skip_h1_title": false,
   "title_cell": "Table of Contents",
   "title_sidebar": "Contents",
   "toc_cell": false,
   "toc_position": {},
   "toc_section_display": true,
   "toc_window_display": true
  }
 },
 "nbformat": 4,
 "nbformat_minor": 5
}
