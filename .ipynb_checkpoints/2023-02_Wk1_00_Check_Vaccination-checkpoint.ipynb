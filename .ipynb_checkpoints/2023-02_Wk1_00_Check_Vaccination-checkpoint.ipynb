{
 "cells": [
  {
   "cell_type": "code",
   "execution_count": 1,
   "id": "a537b441",
   "metadata": {
    "ExecuteTime": {
     "end_time": "2023-01-28T06:16:37.358000Z",
     "start_time": "2023-01-28T06:16:36.264577Z"
    }
   },
   "outputs": [],
   "source": [
    "import atomica as at\n",
    "import pandas as pd\n",
    "import matplotlib.pyplot as plt\n",
    "import numpy as np\n",
    "\n",
    "from hep_b_vimc_functions_v0 import load_cen_project, load_sto_project, input_results, \\\n",
    "central_results, stochastic_results"
   ]
  },
  {
   "cell_type": "code",
   "execution_count": null,
   "id": "30bd72cf",
   "metadata": {},
   "outputs": [],
   "source": [
    "P, res = load_cen_project(db = 'AFR_db_v1_2_1_no_vax.xlsx')"
   ]
  }
 ],
 "metadata": {
  "kernelspec": {
   "display_name": "Python [conda env:torch] *",
   "language": "python",
   "name": "conda-env-torch-py"
  },
  "language_info": {
   "codemirror_mode": {
    "name": "ipython",
    "version": 3
   },
   "file_extension": ".py",
   "mimetype": "text/x-python",
   "name": "python",
   "nbconvert_exporter": "python",
   "pygments_lexer": "ipython3",
   "version": "3.7.11"
  },
  "toc": {
   "base_numbering": 1,
   "nav_menu": {},
   "number_sections": true,
   "sideBar": true,
   "skip_h1_title": false,
   "title_cell": "Table of Contents",
   "title_sidebar": "Contents",
   "toc_cell": false,
   "toc_position": {},
   "toc_section_display": true,
   "toc_window_display": true
  }
 },
 "nbformat": 4,
 "nbformat_minor": 5
}
