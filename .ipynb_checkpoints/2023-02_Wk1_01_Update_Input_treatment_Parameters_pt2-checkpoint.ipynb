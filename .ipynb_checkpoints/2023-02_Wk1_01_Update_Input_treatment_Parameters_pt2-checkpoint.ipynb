{
 "cells": [
  {
   "cell_type": "code",
   "execution_count": 1,
   "id": "09c7618a",
   "metadata": {
    "ExecuteTime": {
     "end_time": "2023-01-30T02:57:20.020136Z",
     "start_time": "2023-01-30T02:57:18.876287Z"
    }
   },
   "outputs": [],
   "source": [
    "import atomica as at\n",
    "import matplotlib.pyplot as plt\n",
    "import pandas as pd\n",
    "import numpy as np"
   ]
  },
  {
   "cell_type": "code",
   "execution_count": null,
   "id": "56b6d35a",
   "metadata": {},
   "outputs": [],
   "source": [
    "def load_sto_project(n_samples, fw = 'hbv_v14_gamma_2.xlsx', db = \"AFR_db_v1_2_1.xlsx\", cl = 'AFR_calib_v1_2.xlsx', seed = 310123):\n",
    "    ## Load projects and input parameters\n",
    "    P =at.Project(framework=fw, databook=db, sim_start=1990, sim_end=2101, sim_dt=0.25, do_run=False) #test PSA on some parameters (vax eff, mtct_infx, mortality rates)\n",
    "\n",
    "    cal = P.make_parset()\n",
    "    cal.load_calibration(cl)\n",
    "\n",
    "    np.random.seed(seed)\n",
    "    afr_ua=P.parsets[0]\n",
    "\n",
    "    parsets = {}\n",
    "    results = {}\n",
    "\n",
    "    ## Sample a set of parameters\n",
    "    for i in range(1, n_samples+1):\n",
    "        parsets[i] = afr_ua.sample()\n",
    "    \n",
    "    ## Copy the male treatment/vaccine parameters onto the female parameters\n",
    "    ages = ['0-4', '5-14', '15-49', '50-69', '70+']\n",
    "    trtinv = ['te_dc_cc', 'te_icl_ict', 'te_icl_cc', 'te_cc_dc', 'te_cc_hcc', 'te_ie_cc', 'te_m_dc', 'te_m_hcc', 'te_ict_hcc', 'te_ie_hcc', 'te_icl_hcc', 'te_dc_hcc']\n",
    "    vacinv = ['eag_ve', 'sag_ve', 'hb3_ve', 'mav_ve']\n",
    "    tot_pars = trtinv + vacinv\n",
    "\n",
    "    for i in range(1, n_samples+1):\n",
    "        for age in ages:\n",
    "            for par in tot_pars:\n",
    "                parsets[i].get_par(par).ts[f'{age}F'].assumption = parsets[i].get_par(par).ts[f'{age}M'].assumption\n",
    "            \n",
    "    ## Generate Results\n",
    "    for i in range(1, n_samples+1):\n",
    "        results[i] = P.run_sim(parsets[i], result_name = f'sample result {i}')\n",
    "    \n",
    "    return P, parsets, results"
   ]
  },
  {
   "cell_type": "code",
   "execution_count": null,
   "id": "73121467",
   "metadata": {},
   "outputs": [],
   "source": [
    "def input_results(n_samples, fw = 'hbv_v14_gamma_2.xlsx', db = \"AFR_db_v1_2_1.xlsx\", cl = 'AFR_calib_v1_2.xlsx', seed = 310123):\n",
    "\n",
    "    ## Load projects and input parameters\n",
    "    P, parsets, results = load_sto_project(n_samples, fw= fw, db=db, cl=cl, seed=seed)\n",
    "\n",
    "    ages = ['0-4', '5-14', '15-49', '50-69', '70+']\n",
    "    nathis = ['ci_p', 'm_acu', 'm_dc', 'm_hcc']\n",
    "    trtinv = ['te_dc_cc', 'te_icl_ict', 'te_icl_cc', 'te_cc_dc', 'te_cc_hcc', 'te_ie_cc', 'te_m_dc', 'te_m_hcc', 'te_ict_hcc', 'te_ie_hcc', 'te_icl_hcc', 'te_dc_hcc']\n",
    "    vacinv = ['eag_ve', 'sag_ve', 'hb3_ve', 'mav_ve']\n",
    "    tot_pars = trtinv + vacinv\n",
    "\n",
    "    ## Create a dataframe for the input parameters\n",
    "    in_df = pd.DataFrame(columns = ['run_id']+nathis+trtinv+vacinv)\n",
    "\n",
    "    for sim in range(1,n_samples+1):\n",
    "        in_df.loc[sim,'run_id'] = sim\n",
    "        for col in in_df.columns[1:]:\n",
    "            in_df.loc[sim,col] = parsets[sim].get_par(col).ts[0].assumption #TODO: get different input parameters per population\n",
    "\n",
    "    return in_df"
   ]
  },
  {
   "cell_type": "markdown",
   "id": "f4ed239e",
   "metadata": {},
   "source": [
    "Test `sto` project again"
   ]
  },
  {
   "cell_type": "code",
   "execution_count": 4,
   "id": "f570ea21",
   "metadata": {
    "ExecuteTime": {
     "end_time": "2023-01-30T02:57:34.214274Z",
     "start_time": "2023-01-30T02:57:34.204272Z"
    }
   },
   "outputs": [],
   "source": [
    "n_samples = 5\n",
    "fw = 'hbv_v14_gamma_3.xlsx'\n",
    "db = \"AFR_db_v1_3.xlsx\"\n",
    "cl = 'AFR_calib_v1_2.xlsx'\n",
    "seed = 310123"
   ]
  },
  {
   "cell_type": "code",
   "execution_count": 5,
   "id": "1ee445f4",
   "metadata": {
    "ExecuteTime": {
     "end_time": "2023-01-30T02:57:36.414834Z",
     "start_time": "2023-01-30T02:57:34.468333Z"
    }
   },
   "outputs": [],
   "source": [
    "P =at.Project(framework=fw, databook=db, sim_start=1990, sim_end=2101, sim_dt=0.25, do_run=False)\n",
    "\n",
    "cal = P.make_parset()\n",
    "cal.load_calibration(cl)\n",
    "\n",
    "np.random.seed(seed)\n",
    "afr_ua=P.parsets[0]\n",
    "\n",
    "parsets = {}\n",
    "results = {}\n",
    "\n",
    "## Sample a set of parameters\n",
    "for i in range(1, n_samples+1):\n",
    "    parsets[i] = afr_ua.sample()\n",
    "\n",
    "## Copy the male treatment/vaccine parameters onto the female parameters\n",
    "ages = ['0-4', '5-14', '15-49', '50-69', '70+']\n",
    "trtinv = ['te_dc_cc', 'te_icl_ict', 'te_icl_cc', 'te_cc_dc', 'te_cc_hcc', 'te_ie_cc', 'te_m_dc', 'te_m_hcc', 'te_ict_hcc', 'te_ie_hcc', 'te_icl_hcc', 'te_dc_hcc']\n",
    "vacinv = ['eag_ve', 'sag_ve', 'hb3_ve', 'mav_ve']\n",
    "tot_pars = trtinv + vacinv\n",
    "\n",
    "for i in range(1, n_samples+1):\n",
    "    for age in ages:\n",
    "        for par in tot_pars:\n",
    "            parsets[i].get_par(par).ts[f'{age}F'].assumption = parsets[i].get_par(par).ts[f'{age}M'].assumption\n"
   ]
  },
  {
   "cell_type": "code",
   "execution_count": 6,
   "id": "71cceef6",
   "metadata": {
    "ExecuteTime": {
     "end_time": "2023-01-30T02:58:05.895146Z",
     "start_time": "2023-01-30T02:58:05.884144Z"
    }
   },
   "outputs": [],
   "source": [
    "nathis = ['ci_p', 'm_acu', 'm_dc', 'm_hcc']"
   ]
  },
  {
   "cell_type": "code",
   "execution_count": null,
   "id": "e6c62565",
   "metadata": {},
   "outputs": [],
   "source": [
    "neg_val = 0\n",
    "for i in range(1, n_samples+1):\n",
    "    for age in D.pops:\n",
    "        for par in nathis:\n",
    "            if parsets[i].get_par(par).ts[age].assumption < 1:\n",
    "                neg_val += 1"
   ]
  }
 ],
 "metadata": {
  "kernelspec": {
   "display_name": "Python [conda env:torch] *",
   "language": "python",
   "name": "conda-env-torch-py"
  },
  "language_info": {
   "codemirror_mode": {
    "name": "ipython",
    "version": 3
   },
   "file_extension": ".py",
   "mimetype": "text/x-python",
   "name": "python",
   "nbconvert_exporter": "python",
   "pygments_lexer": "ipython3",
   "version": "3.7.11"
  },
  "toc": {
   "base_numbering": 1,
   "nav_menu": {},
   "number_sections": true,
   "sideBar": true,
   "skip_h1_title": false,
   "title_cell": "Table of Contents",
   "title_sidebar": "Contents",
   "toc_cell": false,
   "toc_position": {},
   "toc_section_display": true,
   "toc_window_display": true
  }
 },
 "nbformat": 4,
 "nbformat_minor": 5
}
