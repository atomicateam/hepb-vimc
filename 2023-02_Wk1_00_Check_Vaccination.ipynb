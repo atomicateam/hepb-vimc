{
 "cells": [
  {
   "cell_type": "code",
   "execution_count": 1,
   "id": "a537b441",
   "metadata": {
    "ExecuteTime": {
     "end_time": "2023-01-28T06:16:37.358000Z",
     "start_time": "2023-01-28T06:16:36.264577Z"
    }
   },
   "outputs": [],
   "source": [
    "import atomica as at\n",
    "import pandas as pd\n",
    "import matplotlib.pyplot as plt\n",
    "import numpy as np\n",
    "\n",
    "from hep_b_vimc_functions_v0 import load_cen_project, load_sto_project, input_results, \\\n",
    "central_results, stochastic_results"
   ]
  },
  {
   "cell_type": "code",
   "execution_count": 2,
   "id": "30bd72cf",
   "metadata": {
    "ExecuteTime": {
     "end_time": "2023-01-28T06:17:36.138580Z",
     "start_time": "2023-01-28T06:17:32.360053Z"
    }
   },
   "outputs": [
    {
     "name": "stdout",
     "output_type": "stream",
     "text": [
      "Elapsed time for running \"default\": 1.43s\n"
     ]
    }
   ],
   "source": [
    "Pn, resn = load_cen_project(db = 'AFR_db_v1_2_1_no_vax.xlsx')"
   ]
  },
  {
   "cell_type": "code",
   "execution_count": 3,
   "id": "2ef9648c",
   "metadata": {
    "ExecuteTime": {
     "end_time": "2023-01-28T06:18:02.558128Z",
     "start_time": "2023-01-28T06:17:59.271187Z"
    }
   },
   "outputs": [
    {
     "name": "stdout",
     "output_type": "stream",
     "text": [
      "Elapsed time for running \"default\": 1.42s\n"
     ]
    }
   ],
   "source": [
    "Pv, resv = load_cen_project(db = 'AFR_db_v1_2_1.xlsx')"
   ]
  },
  {
   "cell_type": "code",
   "execution_count": 7,
   "id": "94dbeb5c",
   "metadata": {
    "ExecuteTime": {
     "end_time": "2023-01-28T06:24:22.422045Z",
     "start_time": "2023-01-28T06:24:22.408042Z"
    }
   },
   "outputs": [],
   "source": [
    "resn.name = 'no vax'\n",
    "resv.name = 'vax'"
   ]
  },
  {
   "cell_type": "code",
   "execution_count": 31,
   "id": "6d6f8273",
   "metadata": {
    "ExecuteTime": {
     "end_time": "2023-01-28T08:17:08.558229Z",
     "start_time": "2023-01-28T08:17:08.483200Z"
    }
   },
   "outputs": [
    {
     "data": {
      "text/plain": [
       "[<matplotlib.lines.Line2D at 0x18a4e7bcb88>]"
      ]
     },
     "execution_count": 31,
     "metadata": {},
     "output_type": "execute_result"
    },
    {
     "data": {
      "text/plain": [
       "<Figure size 432x288 with 0 Axes>"
      ]
     },
     "metadata": {},
     "output_type": "display_data"
    },
    {
     "data": {
      "image/png": "[encoded data removed]",
      "text/plain": [
       "<Figure size 432x288 with 1 Axes>"
      ]
     },
     "metadata": {
      "needs_background": "light"
     },
     "output_type": "display_data"
    }
   ],
   "source": [
    "plt.figure()\n",
    "d=at.PlotData([resn, resv], outputs={'prop_vac':'vax/alive'}, pops = ['0-4M'])\n",
    "at.plot_series(d, data=Pn.data, axis=\"results\")[0]\n",
    "plt.plot(list(range(2000,2100)),Pv.data.tdve['hb3'].ts[f'0-4M'].vals[10:], linewidth = 2, color = 'black')"
   ]
  },
  {
   "cell_type": "code",
   "execution_count": 32,
   "id": "28d4509b",
   "metadata": {
    "ExecuteTime": {
     "end_time": "2023-01-28T08:17:16.302226Z",
     "start_time": "2023-01-28T08:17:16.234696Z"
    }
   },
   "outputs": [
    {
     "data": {
      "text/plain": [
       "[<matplotlib.lines.Line2D at 0x18a4e8ca448>]"
      ]
     },
     "execution_count": 32,
     "metadata": {},
     "output_type": "execute_result"
    },
    {
     "data": {
      "text/plain": [
       "<Figure size 432x288 with 0 Axes>"
      ]
     },
     "metadata": {},
     "output_type": "display_data"
    },
    {
     "data": {
      "image/png": "[encoded data removed]",
      "text/plain": [
       "<Figure size 432x288 with 1 Axes>"
      ]
     },
     "metadata": {
      "needs_background": "light"
     },
     "output_type": "display_data"
    }
   ],
   "source": [
    "plt.figure()\n",
    "d=at.PlotData([resn, resv], outputs={'prop_vac':'vax/alive'}, pops = ['0-4M'])\n",
    "at.plot_series(d, data=Pn.data, axis=\"results\")[0]\n",
    "plt.plot(list(range(2000,2100)),Pv.data.tdve['bd'].ts[f'0-4M'].vals[10:], linewidth = 2, color = 'black')"
   ]
  },
  {
   "cell_type": "markdown",
   "id": "49e47a06",
   "metadata": {},
   "source": [
    "### Overlay this with the vaccination quota"
   ]
  },
  {
   "cell_type": "code",
   "execution_count": 21,
   "id": "4272e232",
   "metadata": {
    "ExecuteTime": {
     "end_time": "2023-01-28T08:14:47.778429Z",
     "start_time": "2023-01-28T08:14:47.763426Z"
    }
   },
   "outputs": [
    {
     "data": {
      "text/plain": [
       "[0.0,\n",
       " 0.0,\n",
       " 0.0,\n",
       " 0.0,\n",
       " 0.0,\n",
       " 0.0,\n",
       " 0.0,\n",
       " 0.0,\n",
       " 0.0,\n",
       " 0.0,\n",
       " 0.0,\n",
       " 0.0,\n",
       " 0.0,\n",
       " 0.0,\n",
       " 0.0,\n",
       " 0.0,\n",
       " 0.0,\n",
       " 0.02,\n",
       " 0.11,\n",
       " 0.2,\n",
       " 0.2899999999999999,\n",
       " 0.2899999999999999,\n",
       " 0.2899999999999999,\n",
       " 0.2999999999999999,\n",
       " 0.2999999999999999,\n",
       " 0.2999999999999999,\n",
       " 0.2999999999999999,\n",
       " 0.2999999999999999,\n",
       " 0.4099999999999999,\n",
       " 0.52,\n",
       " 0.52,\n",
       " 0.52,\n",
       " 0.5364798078193779,\n",
       " 0.5523938155017484,\n",
       " 0.5677614486252822,\n",
       " 0.5826014658310774,\n",
       " 0.5969319817210647,\n",
       " 0.6107704889697614,\n",
       " 0.6241338796768631,\n",
       " 0.6370384659867391,\n",
       " 0.6494999999999999,\n",
       " 0.6594999999999999,\n",
       " 0.6694999999999999,\n",
       " 0.6794999999999999,\n",
       " 0.6895,\n",
       " 0.6995,\n",
       " 0.7095,\n",
       " 0.7195,\n",
       " 0.7294999999999999,\n",
       " 0.7394999999999999,\n",
       " 0.7494999999999999,\n",
       " 0.7595,\n",
       " 0.7694999999999999,\n",
       " 0.7794999999999999,\n",
       " 0.7894999999999999,\n",
       " 0.7994999999999999,\n",
       " 0.8094999999999999,\n",
       " 0.8195,\n",
       " 0.8294999999999999,\n",
       " 0.8394999999999999,\n",
       " 0.8494999999999999,\n",
       " 0.8594999999999999,\n",
       " 0.8694999999999999,\n",
       " 0.8795,\n",
       " 0.8894999999999998,\n",
       " 0.8994999999999999,\n",
       " 0.9,\n",
       " 0.9,\n",
       " 0.9,\n",
       " 0.9,\n",
       " 0.9,\n",
       " 0.9,\n",
       " 0.9,\n",
       " 0.9,\n",
       " 0.9,\n",
       " 0.9,\n",
       " 0.9,\n",
       " 0.9,\n",
       " 0.9,\n",
       " 0.9,\n",
       " 0.9,\n",
       " 0.9,\n",
       " 0.9,\n",
       " 0.9,\n",
       " 0.9,\n",
       " 0.9,\n",
       " 0.9,\n",
       " 0.9,\n",
       " 0.9,\n",
       " 0.9,\n",
       " 0.9,\n",
       " 0.9,\n",
       " 0.9,\n",
       " 0.9,\n",
       " 0.9,\n",
       " 0.9,\n",
       " 0.9,\n",
       " 0.9,\n",
       " 0.9,\n",
       " 0.9,\n",
       " 0.9,\n",
       " 0.9,\n",
       " 0.9,\n",
       " 0.9,\n",
       " 0.9,\n",
       " 0.9,\n",
       " 0.9,\n",
       " 0.9,\n",
       " 0.9,\n",
       " 0.9]"
      ]
     },
     "execution_count": 21,
     "metadata": {},
     "output_type": "execute_result"
    }
   ],
   "source": [
    "Pv.data.tdve['bd'].ts[f'0-4M'].vals"
   ]
  },
  {
   "cell_type": "code",
   "execution_count": 22,
   "id": "90d6655c",
   "metadata": {
    "ExecuteTime": {
     "end_time": "2023-01-28T08:14:54.422422Z",
     "start_time": "2023-01-28T08:14:54.411420Z"
    }
   },
   "outputs": [
    {
     "data": {
      "text/plain": [
       "[0.0,\n",
       " 0.0,\n",
       " 0.0,\n",
       " 0.0,\n",
       " 0.0,\n",
       " 0.0,\n",
       " 0.0,\n",
       " 0.0,\n",
       " 0.0,\n",
       " 0.0,\n",
       " 0.0,\n",
       " 0.0,\n",
       " 0.0,\n",
       " 0.0,\n",
       " 0.0,\n",
       " 0.1799999999999999,\n",
       " 0.27,\n",
       " 0.4199999999999999,\n",
       " 0.4099999999999999,\n",
       " 0.63,\n",
       " 0.4899999999999999,\n",
       " 0.46,\n",
       " 0.4199999999999999,\n",
       " 0.4299999999999999,\n",
       " 0.4299999999999999,\n",
       " 0.4199999999999999,\n",
       " 0.53,\n",
       " 0.55,\n",
       " 0.55,\n",
       " 0.56,\n",
       " 0.56,\n",
       " 0.56,\n",
       " 0.5709787281549062,\n",
       " 0.5816835188736779,\n",
       " 0.5921212073486845,\n",
       " 0.6022984582229352,\n",
       " 0.6122217698455658,\n",
       " 0.6218974784211481,\n",
       " 0.6313317620554637,\n",
       " 0.6405306447003306,\n",
       " 0.6494999999999999,\n",
       " 0.6594999999999999,\n",
       " 0.6694999999999999,\n",
       " 0.6794999999999999,\n",
       " 0.6895,\n",
       " 0.6995,\n",
       " 0.7095,\n",
       " 0.7195,\n",
       " 0.7294999999999999,\n",
       " 0.7394999999999999,\n",
       " 0.7494999999999999,\n",
       " 0.7595,\n",
       " 0.7694999999999999,\n",
       " 0.7794999999999999,\n",
       " 0.7894999999999999,\n",
       " 0.7994999999999999,\n",
       " 0.8094999999999999,\n",
       " 0.8195,\n",
       " 0.8294999999999999,\n",
       " 0.8394999999999999,\n",
       " 0.8494999999999999,\n",
       " 0.8594999999999999,\n",
       " 0.8694999999999999,\n",
       " 0.8795,\n",
       " 0.8894999999999998,\n",
       " 0.8994999999999999,\n",
       " 0.9,\n",
       " 0.9,\n",
       " 0.9,\n",
       " 0.9,\n",
       " 0.9,\n",
       " 0.9,\n",
       " 0.9,\n",
       " 0.9,\n",
       " 0.9,\n",
       " 0.9,\n",
       " 0.9,\n",
       " 0.9,\n",
       " 0.9,\n",
       " 0.9,\n",
       " 0.9,\n",
       " 0.9,\n",
       " 0.9,\n",
       " 0.9,\n",
       " 0.9,\n",
       " 0.9,\n",
       " 0.9,\n",
       " 0.9,\n",
       " 0.9,\n",
       " 0.9,\n",
       " 0.9,\n",
       " 0.9,\n",
       " 0.9,\n",
       " 0.9,\n",
       " 0.9,\n",
       " 0.9,\n",
       " 0.9,\n",
       " 0.9,\n",
       " 0.9,\n",
       " 0.9,\n",
       " 0.9,\n",
       " 0.9,\n",
       " 0.9,\n",
       " 0.9,\n",
       " 0.9,\n",
       " 0.9,\n",
       " 0.9,\n",
       " 0.9,\n",
       " 0.9,\n",
       " 0.9]"
      ]
     },
     "execution_count": 22,
     "metadata": {},
     "output_type": "execute_result"
    }
   ],
   "source": [
    "Pv.data.tdve['hb3'].ts[f'0-4M'].vals"
   ]
  },
  {
   "cell_type": "code",
   "execution_count": 23,
   "id": "8ff6c0bd",
   "metadata": {
    "ExecuteTime": {
     "end_time": "2023-01-28T08:15:03.361479Z",
     "start_time": "2023-01-28T08:15:03.355479Z"
    }
   },
   "outputs": [
    {
     "data": {
      "text/plain": [
       "110"
      ]
     },
     "execution_count": 23,
     "metadata": {},
     "output_type": "execute_result"
    }
   ],
   "source": [
    "len(Pv.data.tdve['hb3'].ts[f'0-4M'].vals)"
   ]
  },
  {
   "cell_type": "code",
   "execution_count": null,
   "id": "e81522d4",
   "metadata": {},
   "outputs": [],
   "source": []
  }
 ],
 "metadata": {
  "kernelspec": {
   "display_name": "Python [conda env:torch] *",
   "language": "python",
   "name": "conda-env-torch-py"
  },
  "language_info": {
   "codemirror_mode": {
    "name": "ipython",
    "version": 3
   },
   "file_extension": ".py",
   "mimetype": "text/x-python",
   "name": "python",
   "nbconvert_exporter": "python",
   "pygments_lexer": "ipython3",
   "version": "3.7.11"
  },
  "toc": {
   "base_numbering": 1,
   "nav_menu": {},
   "number_sections": true,
   "sideBar": true,
   "skip_h1_title": false,
   "title_cell": "Table of Contents",
   "title_sidebar": "Contents",
   "toc_cell": false,
   "toc_position": {},
   "toc_section_display": true,
   "toc_window_display": true
  }
 },
 "nbformat": 4,
 "nbformat_minor": 5
}
