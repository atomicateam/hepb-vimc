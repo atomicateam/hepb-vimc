{
 "cells": [
  {
   "cell_type": "code",
   "execution_count": 2,
   "id": "e214603d",
   "metadata": {
    "ExecuteTime": {
     "end_time": "2023-01-23T23:16:37.693049Z",
     "start_time": "2023-01-23T23:16:35.788275Z"
    }
   },
   "outputs": [],
   "source": [
    "import atomica as at\n",
    "import matplotlib.pyplot as plt\n",
    "import pandas as pd\n",
    "import numpy as np"
   ]
  },
  {
   "cell_type": "code",
   "execution_count": 3,
   "id": "539f28c5",
   "metadata": {
    "ExecuteTime": {
     "end_time": "2023-01-23T23:16:37.757066Z",
     "start_time": "2023-01-23T23:16:37.694050Z"
    }
   },
   "outputs": [],
   "source": [
    "loc3 = at.parent_dir()"
   ]
  },
  {
   "cell_type": "code",
   "execution_count": 4,
   "id": "1468cb8d",
   "metadata": {
    "ExecuteTime": {
     "end_time": "2023-01-23T23:16:38.608776Z",
     "start_time": "2023-01-23T23:16:38.605361Z"
    }
   },
   "outputs": [
    {
     "data": {
      "text/plain": [
       "WindowsPath('C:/Users/Phil/AppData/Local/Temp/ipykernel_33760')"
      ]
     },
     "execution_count": 4,
     "metadata": {},
     "output_type": "execute_result"
    }
   ],
   "source": [
    "loc3"
   ]
  },
  {
   "cell_type": "markdown",
   "id": "58a1cfa0",
   "metadata": {},
   "source": [
    "## Load everything"
   ]
  },
  {
   "cell_type": "code",
   "execution_count": 2,
   "id": "ce59730e",
   "metadata": {
    "ExecuteTime": {
     "end_time": "2023-01-20T05:13:30.859140Z",
     "start_time": "2023-01-20T05:13:27.245343Z"
    }
   },
   "outputs": [
    {
     "name": "stdout",
     "output_type": "stream",
     "text": [
      "Elapsed time for running \"default\": 1.40s\n"
     ]
    }
   ],
   "source": [
    "P =at.Project(framework=\"hbv_v14_gamma_2.xlsx\", databook=\"AFR_db_v1_2.xlsx\", sim_start=1990, sim_end=2101, sim_dt=0.25, do_run=False) #test PSA on some parameters (vax eff, mtct_infx, mortality rates)\n",
    "\n",
    "cal = P.make_parset()\n",
    "cal.load_calibration('AFR_calib_v1_2.xlsx')\n",
    "\n",
    "res = P.run_sim(parset=cal, result_name = 'Status Quo')"
   ]
  },
  {
   "cell_type": "code",
   "execution_count": 27,
   "id": "54aed397",
   "metadata": {
    "ExecuteTime": {
     "end_time": "2023-01-20T05:57:53.506951Z",
     "start_time": "2023-01-20T05:57:52.018599Z"
    }
   },
   "outputs": [
    {
     "name": "stdout",
     "output_type": "stream",
     "text": [
      "Elapsed time for running \"default\": 1.47s\n"
     ]
    }
   ],
   "source": [
    "res = P.run_sim(parset=cal, result_name = 'Central Results')"
   ]
  },
  {
   "cell_type": "code",
   "execution_count": 4,
   "id": "c0b992ef",
   "metadata": {
    "ExecuteTime": {
     "end_time": "2023-01-20T05:13:32.269102Z",
     "start_time": "2023-01-20T05:13:32.254093Z"
    }
   },
   "outputs": [
    {
     "data": {
      "text/plain": [
       "445"
      ]
     },
     "execution_count": 4,
     "metadata": {},
     "output_type": "execute_result"
    }
   ],
   "source": [
    "len(res.get_variable('alive')[0].vals)"
   ]
  },
  {
   "cell_type": "code",
   "execution_count": 5,
   "id": "68e15787",
   "metadata": {
    "ExecuteTime": {
     "end_time": "2023-01-20T05:13:32.285104Z",
     "start_time": "2023-01-20T05:13:32.270102Z"
    }
   },
   "outputs": [],
   "source": [
    "loc = 'C:/Users/Phil/Google Drive (phillip.luong@burnet.edu.au)/Projects/2022-12 VIMR HepB Modelling/2023-01_Wk2_Create_Demographic_db/Data/Templates'"
   ]
  },
  {
   "cell_type": "code",
   "execution_count": 6,
   "id": "c9f44f1d",
   "metadata": {
    "ExecuteTime": {
     "end_time": "2023-01-20T05:13:32.555165Z",
     "start_time": "2023-01-20T05:13:32.286106Z"
    }
   },
   "outputs": [],
   "source": [
    "np.random.seed(310123)\n",
    "afr_ua=P.parsets[0]\n",
    "\n",
    "n_samples = 10\n",
    "\n",
    "parsets = {}\n",
    "results = {}\n",
    "\n",
    "for i in range(1, n_samples+1):\n",
    "    parsets[i] = afr_ua.sample()\n",
    "    \n",
    "ages = ['0-4', '5-14', '15-49', '50-69', '70+']\n",
    "trtinv = ['te_dc_cc', 'te_icl_ict', 'te_icl_cc', 'te_cc_dc', 'te_cc_hcc', 'te_ie_cc', 'te_m_dc', 'te_m_hcc', 'te_ict_hcc', 'te_ie_hcc', 'te_icl_hcc', 'te_dc_hcc']\n",
    "vacinv = ['eag_ve', 'sag_ve', 'hb3_ve', 'mav_ve']\n",
    "tot_pars = trtinv + vacinv\n",
    "\n",
    "for i in range(1, n_samples+1):\n",
    "    for age in ages:\n",
    "        for par in tot_pars:\n",
    "            parsets[i].get_par(par).ts[f'{age}F'].assumption = parsets[i].get_par(par).ts[f'{age}M'].assumption"
   ]
  },
  {
   "cell_type": "markdown",
   "id": "c0ffc4a4",
   "metadata": {},
   "source": [
    "## Input Results"
   ]
  },
  {
   "cell_type": "code",
   "execution_count": 8,
   "id": "eddaca35",
   "metadata": {
    "ExecuteTime": {
     "end_time": "2023-01-20T05:40:09.449123Z",
     "start_time": "2023-01-20T05:40:09.442121Z"
    }
   },
   "outputs": [],
   "source": [
    "ages = ['0-4', '5-14', '15-49', '50-69', '70+']\n",
    "nathis = ['ci_p', 'm_acu', 'm_dc', 'm_hcc']\n",
    "trtinv = ['te_dc_cc', 'te_icl_ict', 'te_icl_cc', 'te_cc_dc', 'te_cc_hcc', 'te_ie_cc', 'te_m_dc', 'te_m_hcc', 'te_ict_hcc', 'te_ie_hcc', 'te_icl_hcc', 'te_dc_hcc']\n",
    "vacinv = ['eag_ve', 'sag_ve', 'hb3_ve', 'mav_ve']\n",
    "tot_pars = trtinv + vacinv"
   ]
  },
  {
   "cell_type": "code",
   "execution_count": 9,
   "id": "c48d198f",
   "metadata": {
    "ExecuteTime": {
     "end_time": "2023-01-20T05:40:09.655169Z",
     "start_time": "2023-01-20T05:40:09.641167Z"
    }
   },
   "outputs": [],
   "source": [
    "in_df = pd.DataFrame(columns = ['run_id']+nathis+trtinv+vacinv)"
   ]
  },
  {
   "cell_type": "code",
   "execution_count": 25,
   "id": "7cc4ffd1",
   "metadata": {
    "ExecuteTime": {
     "end_time": "2023-01-20T05:54:36.637495Z",
     "start_time": "2023-01-20T05:54:36.618521Z"
    }
   },
   "outputs": [],
   "source": [
    "for sim in range(10):\n",
    "    in_df.loc[sim,'run_id'] = sim + 1\n",
    "    for col in in_df.columns[1:]:\n",
    "        in_df.loc[sim,col] = parsets[3].get_par(col).ts[0].assumption #TODO: get different input parameters per population"
   ]
  },
  {
   "cell_type": "code",
   "execution_count": 26,
   "id": "17bb4729",
   "metadata": {
    "ExecuteTime": {
     "end_time": "2023-01-20T05:54:37.643761Z",
     "start_time": "2023-01-20T05:54:37.625758Z"
    }
   },
   "outputs": [],
   "source": [
    "in_df.to_csv('input_results_v0.csv', index=False)"
   ]
  },
  {
   "cell_type": "markdown",
   "id": "31b1b503",
   "metadata": {},
   "source": [
    "## Central Results"
   ]
  },
  {
   "cell_type": "code",
   "execution_count": 30,
   "id": "6dce24e1",
   "metadata": {
    "ExecuteTime": {
     "end_time": "2023-01-20T06:00:43.624619Z",
     "start_time": "2023-01-20T06:00:41.402486Z"
    }
   },
   "outputs": [],
   "source": [
    "loc2 = 'Data/Demographics/'\n",
    "df1 = pd.read_csv(loc2+'202212rfp-1_dds-202208_int_pop_both.csv')\n",
    "\n",
    "df1 = df1[(df1.year >= 1990) & (df1.year <=2100)]\n",
    "age_groups = ['0-4', '5-14', '15-49', '50-69', '70+']\n",
    "\n",
    "for idx,row in df1.iterrows():\n",
    "    if row.age_from < 5:\n",
    "        df1.loc[idx,'age_group'] = '0-4'\n",
    "    elif row.age_from < 15:\n",
    "        df1.loc[idx,'age_group'] = '5-14'\n",
    "    elif row.age_from < 50:\n",
    "        df1.loc[idx,'age_group'] = '15-49'\n",
    "    elif row.age_from < 70:\n",
    "        df1.loc[idx,'age_group'] = '50-69'\n",
    "    else:\n",
    "        df1.loc[idx,'age_group'] = '70+'"
   ]
  },
  {
   "cell_type": "code",
   "execution_count": 31,
   "id": "5466cc18",
   "metadata": {
    "ExecuteTime": {
     "end_time": "2023-01-20T06:00:43.640623Z",
     "start_time": "2023-01-20T06:00:43.625619Z"
    }
   },
   "outputs": [],
   "source": [
    "output_dict = {'cohort_size': 'alive', 'cases': 'tot_inc', 'dalys':'dalys'}"
   ]
  },
  {
   "cell_type": "code",
   "execution_count": 33,
   "id": "b39f354b",
   "metadata": {
    "ExecuteTime": {
     "end_time": "2023-01-20T06:02:39.465759Z",
     "start_time": "2023-01-20T06:02:39.410746Z"
    }
   },
   "outputs": [],
   "source": [
    "cen_df = pd.read_csv(loc+'/central-burden-template.202212rfp-1.RFP_standard template_HepB.csv')"
   ]
  },
  {
   "cell_type": "code",
   "execution_count": 34,
   "id": "7d7c3b6c",
   "metadata": {
    "ExecuteTime": {
     "end_time": "2023-01-20T06:04:06.573429Z",
     "start_time": "2023-01-20T06:02:40.139093Z"
    }
   },
   "outputs": [],
   "source": [
    "for opt in output_dict:\n",
    "    tot_val = res.get_variable(output_dict[opt])[0].vals + res.get_variable(output_dict[opt])[1].vals\n",
    "    for age in range(0,5):\n",
    "        for year in range(2000,2101):\n",
    "            ratio = float(df1[(df1.age_to == age) & (df1.year == year)].value)/df1.groupby(by=['age_group','year']).sum().loc[('0-4',year),'value']\n",
    "            res_val = tot_val[(year-1990)*4]\n",
    "\n",
    "            idx = cen_df[(cen_df.year == year) & (cen_df.age == age)].index[0]\n",
    "            cen_df.loc[idx, opt] = ratio * res_val\n",
    "\n",
    "    tot_val = res.get_variable(output_dict[opt])[2].vals + res.get_variable(output_dict[opt])[3].vals\n",
    "    for age in range(5,15):\n",
    "        for year in range(2000,2101):\n",
    "            ratio = float(df1[(df1.age_to == age) & (df1.year == year)].value)/df1.groupby(by=['age_group','year']).sum().loc[('5-14',year),'value']\n",
    "            res_val = tot_val[(year-1990)*4]\n",
    "\n",
    "            idx = cen_df[(cen_df.year == year) & (cen_df.age == age)].index[0]\n",
    "            cen_df.loc[idx, opt] = ratio * res_val\n",
    "\n",
    "    tot_val = res.get_variable(output_dict[opt])[4].vals + res.get_variable(output_dict[opt])[5].vals\n",
    "    for age in range(15,50):\n",
    "        for year in range(2000,2101):\n",
    "            ratio = float(df1[(df1.age_to == age) & (df1.year == year)].value)/df1.groupby(by=['age_group','year']).sum().loc[('15-49',year),'value']\n",
    "            res_val = tot_val[(year-1990)*4]\n",
    "\n",
    "            idx = cen_df[(cen_df.year == year) & (cen_df.age == age)].index[0]\n",
    "            cen_df.loc[idx, opt] = ratio * res_val\n",
    "\n",
    "    tot_val = res.get_variable(output_dict[opt])[6].vals + res.get_variable(output_dict[opt])[7].vals\n",
    "    for age in range(50,70):\n",
    "        for year in range(2000,2101):\n",
    "            ratio = float(df1[(df1.age_to == age) & (df1.year == year)].value)/df1.groupby(by=['age_group','year']).sum().loc[('50-69',year),'value']\n",
    "            res_val = tot_val[(year-1990)*4]\n",
    "\n",
    "            idx = cen_df[(cen_df.year == year) & (cen_df.age == age)].index[0]\n",
    "            cen_df.loc[idx, opt] = ratio * res_val\n",
    "\n",
    "    tot_val = res.get_variable(output_dict[opt])[8].vals + res.get_variable(output_dict[opt])[9].vals\n",
    "    for age in range(70,101):\n",
    "        for year in range(2000,2101):\n",
    "            ratio = float(df1[(df1.age_from == age) & (df1.year == year)].value)/df1.groupby(by=['age_group','year']).sum().loc[('70+',year),'value']\n",
    "            res_val = tot_val[(year-1990)*4]\n",
    "\n",
    "            idx = cen_df[(cen_df.year == year) & (cen_df.age == age)].index[0]\n",
    "            cen_df.loc[idx, opt] = ratio * res_val"
   ]
  },
  {
   "cell_type": "code",
   "execution_count": 35,
   "id": "ace24178",
   "metadata": {
    "ExecuteTime": {
     "end_time": "2023-01-20T06:04:35.412653Z",
     "start_time": "2023-01-20T06:04:06.574430Z"
    }
   },
   "outputs": [],
   "source": [
    "tot_val = 0\n",
    "for var in ['cl_acu', 'cl_cir', 'cl_hcc']:\n",
    "    tot_val += res.get_variable(var)[0].vals + res.get_variable(var)[1].vals\n",
    "    \n",
    "for age in range(0,5):\n",
    "    for year in range(2000,2101):\n",
    "        ratio = float(df1[(df1.age_to == age) & (df1.year == year)].value)/df1.groupby(by=['age_group','year']).sum().loc[('0-4',year),'value']\n",
    "        res_val = tot_val[(year-1990)*4]\n",
    "\n",
    "        idx = cen_df[(cen_df.year == year) & (cen_df.age == age)].index[0]\n",
    "        cen_df.loc[idx, 'deaths'] = ratio * res_val\n",
    "\n",
    "tot_val = 0\n",
    "for var in ['cl_acu', 'cl_cir', 'cl_hcc']:\n",
    "    tot_val += res.get_variable(var)[2].vals + res.get_variable(var)[3].vals\n",
    "for age in range(5,15):\n",
    "    for year in range(2000,2101):\n",
    "        ratio = float(df1[(df1.age_to == age) & (df1.year == year)].value)/df1.groupby(by=['age_group','year']).sum().loc[('5-14',year),'value']\n",
    "        res_val = tot_val[(year-1990)*4]\n",
    "\n",
    "        idx = cen_df[(cen_df.year == year) & (cen_df.age == age)].index[0]\n",
    "        cen_df.loc[idx, 'deaths'] = ratio * res_val\n",
    "\n",
    "tot_val = 0\n",
    "for var in ['cl_acu', 'cl_cir', 'cl_hcc']:\n",
    "    tot_val += res.get_variable(var)[4].vals + res.get_variable(var)[5].vals\n",
    "for age in range(15,50):\n",
    "    for year in range(2000,2101):\n",
    "        ratio = float(df1[(df1.age_to == age) & (df1.year == year)].value)/df1.groupby(by=['age_group','year']).sum().loc[('15-49',year),'value']\n",
    "        res_val = tot_val[(year-1990)*4]\n",
    "\n",
    "        idx = cen_df[(cen_df.year == year) & (cen_df.age == age)].index[0]\n",
    "        cen_df.loc[idx, 'deaths'] = ratio * res_val\n",
    "\n",
    "tot_val = 0\n",
    "for var in ['cl_acu', 'cl_cir', 'cl_hcc']:\n",
    "    tot_val += res.get_variable(var)[6].vals + res.get_variable(var)[7].vals\n",
    "for age in range(50,70):\n",
    "    for year in range(2000,2101):\n",
    "        ratio = float(df1[(df1.age_to == age) & (df1.year == year)].value)/df1.groupby(by=['age_group','year']).sum().loc[('50-69',year),'value']\n",
    "        res_val = tot_val[(year-1990)*4]\n",
    "\n",
    "        idx = cen_df[(cen_df.year == year) & (cen_df.age == age)].index[0]\n",
    "        cen_df.loc[idx, 'deaths'] = ratio * res_val\n",
    "\n",
    "tot_val = 0\n",
    "for var in ['cl_acu', 'cl_cir', 'cl_hcc']:\n",
    "    tot_val += res.get_variable(var)[8].vals + res.get_variable(var)[9].vals\n",
    "for age in range(70,101):\n",
    "    for year in range(2000,2101):\n",
    "        ratio = float(df1[(df1.age_from == age) & (df1.year == year)].value)/df1.groupby(by=['age_group','year']).sum().loc[('70+',year),'value']\n",
    "        res_val = tot_val[(year-1990)*4]\n",
    "\n",
    "        idx = cen_df[(cen_df.year == year) & (cen_df.age == age)].index[0]\n",
    "        cen_df.loc[idx, 'deaths'] = ratio * res_val"
   ]
  },
  {
   "cell_type": "markdown",
   "id": "140bb430",
   "metadata": {},
   "source": [
    "## Stochastic Results"
   ]
  },
  {
   "cell_type": "code",
   "execution_count": 42,
   "id": "23056735",
   "metadata": {
    "ExecuteTime": {
     "end_time": "2023-01-20T06:07:14.866233Z",
     "start_time": "2023-01-20T06:07:14.851229Z"
    }
   },
   "outputs": [],
   "source": [
    "df = pd.read_csv(loc+'/stochastic-burden-template.202212rfp-1.RFP_standard template_HepB.csv') #template"
   ]
  },
  {
   "cell_type": "code",
   "execution_count": 39,
   "id": "1f621467",
   "metadata": {
    "ExecuteTime": {
     "end_time": "2023-01-20T06:06:10.027103Z",
     "start_time": "2023-01-20T06:05:55.603185Z"
    }
   },
   "outputs": [
    {
     "name": "stdout",
     "output_type": "stream",
     "text": [
      "Elapsed time for running \"default\": 1.39s\n",
      "Elapsed time for running \"default\": 1.43s\n",
      "Elapsed time for running \"default\": 1.49s\n",
      "Elapsed time for running \"default\": 1.42s\n",
      "Elapsed time for running \"default\": 1.44s\n",
      "Elapsed time for running \"default\": 1.43s\n",
      "Elapsed time for running \"default\": 1.43s\n",
      "Elapsed time for running \"default\": 1.51s\n",
      "Elapsed time for running \"default\": 1.42s\n",
      "Elapsed time for running \"default\": 1.45s\n"
     ]
    }
   ],
   "source": [
    "for i in range(1, n_samples+1):\n",
    "    results[i] = P.run_sim(parsets[i], result_name = f'sample result {i}')"
   ]
  },
  {
   "cell_type": "code",
   "execution_count": 43,
   "id": "34f153b1",
   "metadata": {
    "ExecuteTime": {
     "end_time": "2023-01-20T06:27:11.801901Z",
     "start_time": "2023-01-20T06:07:22.748575Z"
    },
    "scrolled": true
   },
   "outputs": [
    {
     "name": "stdout",
     "output_type": "stream",
     "text": [
      "Sim no 2\n",
      "cohort_size\n",
      "cases\n",
      "dalys\n",
      "Sim no 3\n",
      "cohort_size\n",
      "cases\n",
      "dalys\n",
      "Sim no 4\n",
      "cohort_size\n",
      "cases\n",
      "dalys\n",
      "Sim no 5\n",
      "cohort_size\n",
      "cases\n",
      "dalys\n",
      "Sim no 6\n",
      "cohort_size\n",
      "cases\n",
      "dalys\n",
      "Sim no 7\n",
      "cohort_size\n",
      "cases\n",
      "dalys\n",
      "Sim no 8\n",
      "cohort_size\n",
      "cases\n",
      "dalys\n",
      "Sim no 9\n",
      "cohort_size\n",
      "cases\n",
      "dalys\n",
      "Sim no 10\n",
      "cohort_size\n",
      "cases\n",
      "dalys\n",
      "Sim no 11\n",
      "cohort_size\n",
      "cases\n",
      "dalys\n"
     ]
    }
   ],
   "source": [
    "dfs = {}\n",
    "for sim in range(1,n_samples+1):\n",
    "    stores = results[sim]\n",
    "    print(f'Sim no {sim}')\n",
    "    \n",
    "    dfs[sim] = pd.read_csv(loc+'/stochastic-burden-template.202212rfp-1.RFP_standard template_HepB.csv')\n",
    "    dfs[sim].run_id = sim+1\n",
    "    ## Other outputs\n",
    "    for opt in output_dict:\n",
    "        print(opt)\n",
    "        tot_val = stores.get_variable(output_dict[opt])[0].vals + stores.get_variable(output_dict[opt])[1].vals\n",
    "        for age in range(0,5):\n",
    "            for year in range(2000,2101):\n",
    "                ratio = float(df1[(df1.age_to == age) & (df1.year == year)].value)/df1.groupby(by=['age_group','year']).sum().loc[('0-4',year),'value']\n",
    "                res_val = tot_val[(year-1990)*4]\n",
    "\n",
    "                idx = df[(dfs[sim].year == year) & (dfs[sim].age == age)].index[0]\n",
    "                dfs[sim].loc[idx, opt] = ratio * res_val\n",
    "\n",
    "        tot_val = stores.get_variable(output_dict[opt])[2].vals + stores.get_variable(output_dict[opt])[3].vals\n",
    "        for age in range(5,15):\n",
    "            for year in range(2000,2101):\n",
    "                ratio = float(df1[(df1.age_to == age) & (df1.year == year)].value)/df1.groupby(by=['age_group','year']).sum().loc[('5-14',year),'value']\n",
    "                res_val = tot_val[(year-1990)*4]\n",
    "\n",
    "                idx = df[(dfs[sim].year == year) & (dfs[sim].age == age)].index[0]\n",
    "                dfs[sim].loc[idx, opt] = ratio * res_val\n",
    "\n",
    "        tot_val = stores.get_variable(output_dict[opt])[4].vals + stores.get_variable(output_dict[opt])[5].vals\n",
    "        for age in range(15,50):\n",
    "            for year in range(2000,2101):\n",
    "                ratio = float(df1[(df1.age_to == age) & (df1.year == year)].value)/df1.groupby(by=['age_group','year']).sum().loc[('15-49',year),'value']\n",
    "                res_val = tot_val[(year-1990)*4]\n",
    "\n",
    "                idx = df[(dfs[sim].year == year) & (dfs[sim].age == age)].index[0]\n",
    "                dfs[sim].loc[idx, opt] = ratio * res_val\n",
    "\n",
    "        tot_val = stores.get_variable(output_dict[opt])[6].vals + stores.get_variable(output_dict[opt])[7].vals\n",
    "        for age in range(50,70):\n",
    "            for year in range(2000,2101):\n",
    "                ratio = float(df1[(df1.age_to == age) & (df1.year == year)].value)/df1.groupby(by=['age_group','year']).sum().loc[('50-69',year),'value']\n",
    "                res_val = tot_val[(year-1990)*4]\n",
    "\n",
    "                idx = df[(dfs[sim].year == year) & (dfs[sim].age == age)].index[0]\n",
    "                dfs[sim].loc[idx, opt] = ratio * res_val\n",
    "\n",
    "        tot_val = stores.get_variable(output_dict[opt])[8].vals + stores.get_variable(output_dict[opt])[9].vals\n",
    "        for age in range(70,101):\n",
    "            for year in range(2000,2101):\n",
    "                ratio = float(df1[(df1.age_from == age) & (df1.year == year)].value)/df1.groupby(by=['age_group','year']).sum().loc[('70+',year),'value']\n",
    "                res_val = tot_val[(year-1990)*4]\n",
    "\n",
    "                idx = df[(dfs[sim].year == year) & (dfs[sim].age == age)].index[0]\n",
    "                dfs[sim].loc[idx, opt] = ratio * res_val\n",
    "                \n",
    "    ## Deaths\n",
    "    tot_val = 0\n",
    "    for var in ['cl_acu', 'cl_cir', 'cl_hcc']:\n",
    "        tot_val += stores.get_variable(var)[0].vals + stores.get_variable(var)[1].vals\n",
    "\n",
    "    for age in range(0,5):\n",
    "        for year in range(2000,2101):\n",
    "            ratio = float(df1[(df1.age_to == age) & (df1.year == year)].value)/df1.groupby(by=['age_group','year']).sum().loc[('0-4',year),'value']\n",
    "            res_val = tot_val[(year-1990)*4]\n",
    "\n",
    "            idx = df[(dfs[sim].year == year) & (dfs[sim].age == age)].index[0]\n",
    "            dfs[sim].loc[idx, 'deaths'] = ratio * res_val\n",
    "\n",
    "    tot_val = 0\n",
    "    for var in ['cl_acu', 'cl_cir', 'cl_hcc']:\n",
    "        tot_val += stores.get_variable(var)[2].vals + stores.get_variable(var)[3].vals\n",
    "    for age in range(5,15):\n",
    "        for year in range(2000,2101):\n",
    "            ratio = float(df1[(df1.age_to == age) & (df1.year == year)].value)/df1.groupby(by=['age_group','year']).sum().loc[('5-14',year),'value']\n",
    "            res_val = tot_val[(year-1990)*4]\n",
    "\n",
    "            idx = df[(dfs[sim].year == year) & (dfs[sim].age == age)].index[0]\n",
    "            dfs[sim].loc[idx, 'deaths'] = ratio * res_val\n",
    "\n",
    "    tot_val = 0\n",
    "    for var in ['cl_acu', 'cl_cir', 'cl_hcc']:\n",
    "        tot_val += stores.get_variable(var)[4].vals + stores.get_variable(var)[5].vals\n",
    "    for age in range(15,50):\n",
    "        for year in range(2000,2101):\n",
    "            ratio = float(df1[(df1.age_to == age) & (df1.year == year)].value)/df1.groupby(by=['age_group','year']).sum().loc[('15-49',year),'value']\n",
    "            res_val = tot_val[(year-1990)*4]\n",
    "\n",
    "            idx = df[(dfs[sim].year == year) & (dfs[sim].age == age)].index[0]\n",
    "            dfs[sim].loc[idx, 'deaths'] = ratio * res_val\n",
    "\n",
    "    tot_val = 0\n",
    "    for var in ['cl_acu', 'cl_cir', 'cl_hcc']:\n",
    "        tot_val += stores.get_variable(var)[6].vals + stores.get_variable(var)[7].vals\n",
    "    for age in range(50,70):\n",
    "        for year in range(2000,2101):\n",
    "            ratio = float(df1[(df1.age_to == age) & (df1.year == year)].value)/df1.groupby(by=['age_group','year']).sum().loc[('50-69',year),'value']\n",
    "            res_val = tot_val[(year-1990)*4]\n",
    "\n",
    "            idx = df[(dfs[sim].year == year) & (dfs[sim].age == age)].index[0]\n",
    "            dfs[sim].loc[idx, 'deaths'] = ratio * res_val\n",
    "\n",
    "    tot_val = 0\n",
    "    for var in ['cl_acu', 'cl_cir', 'cl_hcc']:\n",
    "        tot_val += stores.get_variable(var)[8].vals + stores.get_variable(var)[9].vals\n",
    "    for age in range(70,101):\n",
    "        for year in range(2000,2101):\n",
    "            ratio = float(df1[(df1.age_from == age) & (df1.year == year)].value)/df1.groupby(by=['age_group','year']).sum().loc[('70+',year),'value']\n",
    "            res_val = tot_val[(year-1990)*4]\n",
    "\n",
    "            idx = df[(dfs[sim].year == year) & (dfs[sim].age == age)].index[0]\n",
    "            dfs[sim].loc[idx, 'deaths'] = ratio * res_val "
   ]
  },
  {
   "cell_type": "code",
   "execution_count": 38,
   "id": "8a90b76e",
   "metadata": {
    "ExecuteTime": {
     "end_time": "2023-01-20T06:05:31.312565Z",
     "start_time": "2023-01-20T06:05:31.306563Z"
    }
   },
   "outputs": [
    {
     "data": {
      "text/plain": [
       "{}"
      ]
     },
     "execution_count": 38,
     "metadata": {},
     "output_type": "execute_result"
    }
   ],
   "source": [
    "results"
   ]
  },
  {
   "cell_type": "code",
   "execution_count": null,
   "id": "a69da3fb",
   "metadata": {
    "ExecuteTime": {
     "end_time": "2023-01-20T06:04:47.775373Z",
     "start_time": "2023-01-20T06:04:47.775373Z"
    }
   },
   "outputs": [],
   "source": [
    "final_df = dfs[0]\n",
    "for i in range(1,10):\n",
    "    final_df = pd.concat([final_df,dfs[i]])"
   ]
  },
  {
   "cell_type": "code",
   "execution_count": null,
   "id": "81cf3398",
   "metadata": {},
   "outputs": [],
   "source": [
    "final_df.to_csv('stochastic_results_v0.xlsx', index = False)"
   ]
  }
 ],
 "metadata": {
  "kernelspec": {
   "display_name": "Python [conda env:torch] *",
   "language": "python",
   "name": "conda-env-torch-py"
  },
  "language_info": {
   "codemirror_mode": {
    "name": "ipython",
    "version": 3
   },
   "file_extension": ".py",
   "mimetype": "text/x-python",
   "name": "python",
   "nbconvert_exporter": "python",
   "pygments_lexer": "ipython3",
   "version": "3.7.11"
  },
  "toc": {
   "base_numbering": 1,
   "nav_menu": {},
   "number_sections": true,
   "sideBar": true,
   "skip_h1_title": false,
   "title_cell": "Table of Contents",
   "title_sidebar": "Contents",
   "toc_cell": false,
   "toc_position": {},
   "toc_section_display": true,
   "toc_window_display": true
  }
 },
 "nbformat": 4,
 "nbformat_minor": 5
}
