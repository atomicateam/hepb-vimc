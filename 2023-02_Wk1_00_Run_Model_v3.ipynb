{
 "cells": [
  {
   "cell_type": "code",
   "execution_count": 1,
   "id": "05659e03",
   "metadata": {
    "ExecuteTime": {
     "end_time": "2023-01-29T05:15:34.662283Z",
     "start_time": "2023-01-29T05:15:33.482497Z"
    }
   },
   "outputs": [],
   "source": [
    "import atomica as at\n",
    "import matplotlib.pyplot as plt\n",
    "import pandas as pd\n",
    "import numpy as np\n",
    "from hep_b_vimc_functions_v0 import load_cen_project, load_sto_project, input_results, \\\n",
    "central_results, stochastic_results"
   ]
  },
  {
   "cell_type": "code",
   "execution_count": 9,
   "id": "f4e20689",
   "metadata": {
    "ExecuteTime": {
     "end_time": "2023-01-29T05:20:43.595094Z",
     "start_time": "2023-01-29T05:20:43.586092Z"
    }
   },
   "outputs": [],
   "source": [
    "n_samples = 30\n",
    "fw = 'hbv_v14_gamma_3.xlsx' \n",
    "db_n = \"AFR_db_v1_3_no_vax.xlsx\"\n",
    "db_v = \"AFR_db_v1_3.xlsx\"\n",
    "cl = 'AFR_calib_v1_2.xlsx' \n",
    "seed = 310123"
   ]
  },
  {
   "cell_type": "markdown",
   "id": "76acee1c",
   "metadata": {},
   "source": [
    "# No Vaccination Scenario"
   ]
  },
  {
   "cell_type": "markdown",
   "id": "aa0b4564",
   "metadata": {},
   "source": [
    "## Input Results"
   ]
  },
  {
   "cell_type": "code",
   "execution_count": 11,
   "id": "3e53a6ca",
   "metadata": {
    "ExecuteTime": {
     "end_time": "2023-01-29T05:21:33.459490Z",
     "start_time": "2023-01-29T05:20:47.842238Z"
    }
   },
   "outputs": [
    {
     "name": "stdout",
     "output_type": "stream",
     "text": [
      "Elapsed time for running \"default\": 1.47s\n",
      "Elapsed time for running \"default\": 1.39s\n",
      "Elapsed time for running \"default\": 1.41s\n",
      "Elapsed time for running \"default\": 1.37s\n",
      "Elapsed time for running \"default\": 1.38s\n",
      "Elapsed time for running \"default\": 1.40s\n",
      "Elapsed time for running \"default\": 1.49s\n",
      "Elapsed time for running \"default\": 1.41s\n",
      "Elapsed time for running \"default\": 1.40s\n",
      "Elapsed time for running \"default\": 1.42s\n",
      "Elapsed time for running \"default\": 1.39s\n",
      "Elapsed time for running \"default\": 1.41s\n",
      "Elapsed time for running \"default\": 1.40s\n",
      "Elapsed time for running \"default\": 1.56s\n",
      "Elapsed time for running \"default\": 1.42s\n",
      "Elapsed time for running \"default\": 1.42s\n",
      "Elapsed time for running \"default\": 1.41s\n",
      "Elapsed time for running \"default\": 1.42s\n",
      "Elapsed time for running \"default\": 1.41s\n",
      "Elapsed time for running \"default\": 1.39s\n",
      "Elapsed time for running \"default\": 1.40s\n",
      "Elapsed time for running \"default\": 1.42s\n",
      "Elapsed time for running \"default\": 1.60s\n",
      "Elapsed time for running \"default\": 1.40s\n",
      "Elapsed time for running \"default\": 1.40s\n",
      "Elapsed time for running \"default\": 1.43s\n",
      "Elapsed time for running \"default\": 1.41s\n",
      "Elapsed time for running \"default\": 1.44s\n",
      "Elapsed time for running \"default\": 1.42s\n",
      "Elapsed time for running \"default\": 1.42s\n"
     ]
    }
   ],
   "source": [
    "in_df_n = input_results(30, fw = fw, db = db_n)"
   ]
  },
  {
   "cell_type": "code",
   "execution_count": 17,
   "id": "6dc93fe3",
   "metadata": {
    "ExecuteTime": {
     "end_time": "2023-01-29T11:06:49.783395Z",
     "start_time": "2023-01-29T11:06:49.755514Z"
    }
   },
   "outputs": [],
   "source": [
    "in_df_n.to_csv('input_results_novax_230129.csv', index = False)"
   ]
  },
  {
   "cell_type": "markdown",
   "id": "e9a580ff",
   "metadata": {},
   "source": [
    "## Central Results"
   ]
  },
  {
   "cell_type": "code",
   "execution_count": 12,
   "id": "d15bff2b",
   "metadata": {
    "ExecuteTime": {
     "end_time": "2023-01-29T05:23:31.875538Z",
     "start_time": "2023-01-29T05:21:33.460491Z"
    }
   },
   "outputs": [
    {
     "name": "stdout",
     "output_type": "stream",
     "text": [
      "Elapsed time for running \"default\": 1.41s\n"
     ]
    }
   ],
   "source": [
    "cen_df_n = central_results(fw = fw,db = db_n)"
   ]
  },
  {
   "cell_type": "code",
   "execution_count": 18,
   "id": "2374e9d6",
   "metadata": {
    "ExecuteTime": {
     "end_time": "2023-01-29T11:06:51.692955Z",
     "start_time": "2023-01-29T11:06:51.642945Z"
    }
   },
   "outputs": [],
   "source": [
    "cen_df_n.to_csv('central_results_novax_230129.csv', index = False)"
   ]
  },
  {
   "cell_type": "markdown",
   "id": "aef61775",
   "metadata": {},
   "source": [
    "## Stochastic Results"
   ]
  },
  {
   "cell_type": "code",
   "execution_count": 13,
   "id": "4fc8faab",
   "metadata": {
    "ExecuteTime": {
     "end_time": "2023-01-29T06:25:21.897404Z",
     "start_time": "2023-01-29T05:23:31.876539Z"
    }
   },
   "outputs": [
    {
     "name": "stdout",
     "output_type": "stream",
     "text": [
      "Elapsed time for running \"default\": 1.39s\n",
      "Elapsed time for running \"default\": 1.44s\n",
      "Elapsed time for running \"default\": 1.42s\n",
      "Elapsed time for running \"default\": 1.50s\n",
      "Elapsed time for running \"default\": 1.40s\n",
      "Elapsed time for running \"default\": 1.42s\n",
      "Elapsed time for running \"default\": 1.45s\n",
      "Elapsed time for running \"default\": 1.44s\n",
      "Elapsed time for running \"default\": 1.42s\n",
      "Elapsed time for running \"default\": 1.57s\n",
      "Elapsed time for running \"default\": 1.44s\n",
      "Elapsed time for running \"default\": 1.42s\n",
      "Elapsed time for running \"default\": 1.44s\n",
      "Elapsed time for running \"default\": 1.42s\n",
      "Elapsed time for running \"default\": 1.41s\n",
      "Elapsed time for running \"default\": 1.40s\n",
      "Elapsed time for running \"default\": 1.39s\n",
      "Elapsed time for running \"default\": 1.43s\n",
      "Elapsed time for running \"default\": 1.59s\n",
      "Elapsed time for running \"default\": 1.41s\n",
      "Elapsed time for running \"default\": 1.43s\n",
      "Elapsed time for running \"default\": 1.42s\n",
      "Elapsed time for running \"default\": 1.48s\n",
      "Elapsed time for running \"default\": 1.46s\n",
      "Elapsed time for running \"default\": 1.39s\n",
      "Elapsed time for running \"default\": 1.48s\n",
      "Elapsed time for running \"default\": 1.47s\n",
      "Elapsed time for running \"default\": 1.42s\n",
      "Elapsed time for running \"default\": 1.69s\n",
      "Elapsed time for running \"default\": 1.45s\n",
      "Sim no 1\n",
      "cohort_size\n",
      "cases\n",
      "dalys\n",
      "Sim no 2\n",
      "cohort_size\n",
      "cases\n",
      "dalys\n",
      "Sim no 3\n",
      "cohort_size\n",
      "cases\n",
      "dalys\n",
      "Sim no 4\n",
      "cohort_size\n",
      "cases\n",
      "dalys\n",
      "Sim no 5\n",
      "cohort_size\n",
      "cases\n",
      "dalys\n",
      "Sim no 6\n",
      "cohort_size\n",
      "cases\n",
      "dalys\n",
      "Sim no 7\n",
      "cohort_size\n",
      "cases\n",
      "dalys\n",
      "Sim no 8\n",
      "cohort_size\n",
      "cases\n",
      "dalys\n",
      "Sim no 9\n",
      "cohort_size\n",
      "cases\n",
      "dalys\n",
      "Sim no 10\n",
      "cohort_size\n",
      "cases\n",
      "dalys\n",
      "Sim no 11\n",
      "cohort_size\n",
      "cases\n",
      "dalys\n",
      "Sim no 12\n",
      "cohort_size\n",
      "cases\n",
      "dalys\n",
      "Sim no 13\n",
      "cohort_size\n",
      "cases\n",
      "dalys\n",
      "Sim no 14\n",
      "cohort_size\n",
      "cases\n",
      "dalys\n",
      "Sim no 15\n",
      "cohort_size\n",
      "cases\n",
      "dalys\n",
      "Sim no 16\n",
      "cohort_size\n",
      "cases\n",
      "dalys\n",
      "Sim no 17\n",
      "cohort_size\n",
      "cases\n",
      "dalys\n",
      "Sim no 18\n",
      "cohort_size\n",
      "cases\n",
      "dalys\n",
      "Sim no 19\n",
      "cohort_size\n",
      "cases\n",
      "dalys\n",
      "Sim no 20\n",
      "cohort_size\n",
      "cases\n",
      "dalys\n",
      "Sim no 21\n",
      "cohort_size\n",
      "cases\n",
      "dalys\n",
      "Sim no 22\n",
      "cohort_size\n",
      "cases\n",
      "dalys\n",
      "Sim no 23\n",
      "cohort_size\n",
      "cases\n",
      "dalys\n",
      "Sim no 24\n",
      "cohort_size\n",
      "cases\n",
      "dalys\n",
      "Sim no 25\n",
      "cohort_size\n",
      "cases\n",
      "dalys\n",
      "Sim no 26\n",
      "cohort_size\n",
      "cases\n",
      "dalys\n",
      "Sim no 27\n",
      "cohort_size\n",
      "cases\n",
      "dalys\n",
      "Sim no 28\n",
      "cohort_size\n",
      "cases\n",
      "dalys\n",
      "Sim no 29\n",
      "cohort_size\n",
      "cases\n",
      "dalys\n",
      "Sim no 30\n",
      "cohort_size\n",
      "cases\n",
      "dalys\n"
     ]
    }
   ],
   "source": [
    "final_df_n = stochastic_results(30,fw = fw, db = db_n)"
   ]
  },
  {
   "cell_type": "code",
   "execution_count": 19,
   "id": "6a89e511",
   "metadata": {
    "ExecuteTime": {
     "end_time": "2023-01-29T11:06:53.985609Z",
     "start_time": "2023-01-29T11:06:52.715190Z"
    }
   },
   "outputs": [],
   "source": [
    "final_df_n.to_csv('stochastic_results_novax_230129.csv', index = False)"
   ]
  },
  {
   "cell_type": "markdown",
   "id": "5143e9a5",
   "metadata": {},
   "source": [
    "# Vaccination Scenario"
   ]
  },
  {
   "cell_type": "code",
   "execution_count": null,
   "id": "60ec531b",
   "metadata": {},
   "outputs": [],
   "source": []
  },
  {
   "cell_type": "markdown",
   "id": "a1002ce9",
   "metadata": {},
   "source": [
    "## Input Results"
   ]
  },
  {
   "cell_type": "code",
   "execution_count": 14,
   "id": "55b8d7fa",
   "metadata": {
    "ExecuteTime": {
     "end_time": "2023-01-29T06:26:12.167038Z",
     "start_time": "2023-01-29T06:25:21.899404Z"
    }
   },
   "outputs": [
    {
     "name": "stdout",
     "output_type": "stream",
     "text": [
      "Elapsed time for running \"default\": 1.66s\n",
      "Elapsed time for running \"default\": 1.51s\n",
      "Elapsed time for running \"default\": 1.52s\n",
      "Elapsed time for running \"default\": 1.49s\n",
      "Elapsed time for running \"default\": 1.48s\n",
      "Elapsed time for running \"default\": 1.48s\n",
      "Elapsed time for running \"default\": 1.54s\n",
      "Elapsed time for running \"default\": 1.66s\n",
      "Elapsed time for running \"default\": 1.56s\n",
      "Elapsed time for running \"default\": 1.52s\n",
      "Elapsed time for running \"default\": 1.52s\n",
      "Elapsed time for running \"default\": 1.58s\n",
      "Elapsed time for running \"default\": 1.53s\n",
      "Elapsed time for running \"default\": 1.50s\n",
      "Elapsed time for running \"default\": 1.74s\n",
      "Elapsed time for running \"default\": 1.52s\n",
      "Elapsed time for running \"default\": 1.51s\n",
      "Elapsed time for running \"default\": 1.55s\n",
      "Elapsed time for running \"default\": 1.54s\n",
      "Elapsed time for running \"default\": 1.53s\n",
      "Elapsed time for running \"default\": 1.48s\n",
      "Elapsed time for running \"default\": 1.54s\n",
      "Elapsed time for running \"default\": 1.52s\n",
      "Elapsed time for running \"default\": 1.55s\n",
      "Elapsed time for running \"default\": 1.80s\n",
      "Elapsed time for running \"default\": 1.53s\n",
      "Elapsed time for running \"default\": 1.55s\n",
      "Elapsed time for running \"default\": 1.51s\n",
      "Elapsed time for running \"default\": 1.53s\n",
      "Elapsed time for running \"default\": 1.52s\n"
     ]
    }
   ],
   "source": [
    "in_df_v = input_results(30,fw = fw, db = db_v)"
   ]
  },
  {
   "cell_type": "code",
   "execution_count": 20,
   "id": "c07805de",
   "metadata": {
    "ExecuteTime": {
     "end_time": "2023-01-29T11:06:54.797796Z",
     "start_time": "2023-01-29T11:06:54.779791Z"
    }
   },
   "outputs": [],
   "source": [
    "in_df_v.to_csv('input_results_vax_230129.csv', index = False)"
   ]
  },
  {
   "cell_type": "markdown",
   "id": "c5a26d22",
   "metadata": {},
   "source": [
    "## Central Results"
   ]
  },
  {
   "cell_type": "code",
   "execution_count": 15,
   "id": "fa4ecda5",
   "metadata": {
    "ExecuteTime": {
     "end_time": "2023-01-29T06:28:20.608949Z",
     "start_time": "2023-01-29T06:26:12.168038Z"
    }
   },
   "outputs": [
    {
     "name": "stdout",
     "output_type": "stream",
     "text": [
      "Elapsed time for running \"default\": 1.51s\n"
     ]
    }
   ],
   "source": [
    "cen_df_v = central_results(fw = fw,db = db_v)"
   ]
  },
  {
   "cell_type": "code",
   "execution_count": 21,
   "id": "fc39b723",
   "metadata": {
    "ExecuteTime": {
     "end_time": "2023-01-29T11:06:56.519580Z",
     "start_time": "2023-01-29T11:06:56.467568Z"
    }
   },
   "outputs": [],
   "source": [
    "cen_df_v.to_csv('central_results_vax_230129.csv', index = False)"
   ]
  },
  {
   "cell_type": "markdown",
   "id": "14953cdf",
   "metadata": {},
   "source": [
    "## Stochastic Results"
   ]
  },
  {
   "cell_type": "code",
   "execution_count": 16,
   "id": "149c04fb",
   "metadata": {
    "ExecuteTime": {
     "end_time": "2023-01-29T07:28:00.670026Z",
     "start_time": "2023-01-29T06:28:20.609949Z"
    }
   },
   "outputs": [
    {
     "name": "stdout",
     "output_type": "stream",
     "text": [
      "Elapsed time for running \"default\": 1.55s\n",
      "Elapsed time for running \"default\": 1.65s\n",
      "Elapsed time for running \"default\": 1.51s\n",
      "Elapsed time for running \"default\": 1.51s\n",
      "Elapsed time for running \"default\": 1.52s\n",
      "Elapsed time for running \"default\": 1.56s\n",
      "Elapsed time for running \"default\": 1.51s\n",
      "Elapsed time for running \"default\": 1.61s\n",
      "Elapsed time for running \"default\": 1.47s\n",
      "Elapsed time for running \"default\": 1.52s\n",
      "Elapsed time for running \"default\": 1.53s\n",
      "Elapsed time for running \"default\": 1.48s\n",
      "Elapsed time for running \"default\": 1.50s\n",
      "Elapsed time for running \"default\": 1.49s\n",
      "Elapsed time for running \"default\": 1.54s\n",
      "Elapsed time for running \"default\": 1.75s\n",
      "Elapsed time for running \"default\": 1.56s\n",
      "Elapsed time for running \"default\": 1.53s\n",
      "Elapsed time for running \"default\": 1.54s\n",
      "Elapsed time for running \"default\": 1.48s\n",
      "Elapsed time for running \"default\": 1.53s\n",
      "Elapsed time for running \"default\": 1.53s\n",
      "Elapsed time for running \"default\": 1.52s\n",
      "Elapsed time for running \"default\": 1.52s\n",
      "Elapsed time for running \"default\": 1.79s\n",
      "Elapsed time for running \"default\": 1.49s\n",
      "Elapsed time for running \"default\": 1.55s\n",
      "Elapsed time for running \"default\": 1.54s\n",
      "Elapsed time for running \"default\": 1.54s\n",
      "Elapsed time for running \"default\": 1.51s\n",
      "Sim no 1\n",
      "cohort_size\n",
      "cases\n",
      "dalys\n",
      "Sim no 2\n",
      "cohort_size\n",
      "cases\n",
      "dalys\n",
      "Sim no 3\n",
      "cohort_size\n",
      "cases\n",
      "dalys\n",
      "Sim no 4\n",
      "cohort_size\n",
      "cases\n",
      "dalys\n",
      "Sim no 5\n",
      "cohort_size\n",
      "cases\n",
      "dalys\n",
      "Sim no 6\n",
      "cohort_size\n",
      "cases\n",
      "dalys\n",
      "Sim no 7\n",
      "cohort_size\n",
      "cases\n",
      "dalys\n",
      "Sim no 8\n",
      "cohort_size\n",
      "cases\n",
      "dalys\n",
      "Sim no 9\n",
      "cohort_size\n",
      "cases\n",
      "dalys\n",
      "Sim no 10\n",
      "cohort_size\n",
      "cases\n",
      "dalys\n",
      "Sim no 11\n",
      "cohort_size\n",
      "cases\n",
      "dalys\n",
      "Sim no 12\n",
      "cohort_size\n",
      "cases\n",
      "dalys\n",
      "Sim no 13\n",
      "cohort_size\n",
      "cases\n",
      "dalys\n",
      "Sim no 14\n",
      "cohort_size\n",
      "cases\n",
      "dalys\n",
      "Sim no 15\n",
      "cohort_size\n",
      "cases\n",
      "dalys\n",
      "Sim no 16\n",
      "cohort_size\n",
      "cases\n",
      "dalys\n",
      "Sim no 17\n",
      "cohort_size\n",
      "cases\n",
      "dalys\n",
      "Sim no 18\n",
      "cohort_size\n",
      "cases\n",
      "dalys\n",
      "Sim no 19\n",
      "cohort_size\n",
      "cases\n",
      "dalys\n",
      "Sim no 20\n",
      "cohort_size\n",
      "cases\n",
      "dalys\n",
      "Sim no 21\n",
      "cohort_size\n",
      "cases\n",
      "dalys\n",
      "Sim no 22\n",
      "cohort_size\n",
      "cases\n",
      "dalys\n",
      "Sim no 23\n",
      "cohort_size\n",
      "cases\n",
      "dalys\n",
      "Sim no 24\n",
      "cohort_size\n",
      "cases\n",
      "dalys\n",
      "Sim no 25\n",
      "cohort_size\n",
      "cases\n",
      "dalys\n",
      "Sim no 26\n",
      "cohort_size\n",
      "cases\n",
      "dalys\n",
      "Sim no 27\n",
      "cohort_size\n",
      "cases\n",
      "dalys\n",
      "Sim no 28\n",
      "cohort_size\n",
      "cases\n",
      "dalys\n",
      "Sim no 29\n",
      "cohort_size\n",
      "cases\n",
      "dalys\n",
      "Sim no 30\n",
      "cohort_size\n",
      "cases\n",
      "dalys\n"
     ]
    }
   ],
   "source": [
    "final_df_v = stochastic_results(30,fw = fw, db = db_v)"
   ]
  },
  {
   "cell_type": "code",
   "execution_count": 22,
   "id": "c9b6e598",
   "metadata": {
    "ExecuteTime": {
     "end_time": "2023-01-29T11:06:58.715319Z",
     "start_time": "2023-01-29T11:06:57.459038Z"
    }
   },
   "outputs": [],
   "source": [
    "final_df_v.to_csv('stochastic_results_vax_230129.csv', index = False)"
   ]
  },
  {
   "cell_type": "code",
   "execution_count": null,
   "id": "73af8a68",
   "metadata": {},
   "outputs": [],
   "source": []
  }
 ],
 "metadata": {
  "kernelspec": {
   "display_name": "Python [conda env:torch] *",
   "language": "python",
   "name": "conda-env-torch-py"
  },
  "language_info": {
   "codemirror_mode": {
    "name": "ipython",
    "version": 3
   },
   "file_extension": ".py",
   "mimetype": "text/x-python",
   "name": "python",
   "nbconvert_exporter": "python",
   "pygments_lexer": "ipython3",
   "version": "3.7.11"
  },
  "toc": {
   "base_numbering": 1,
   "nav_menu": {},
   "number_sections": true,
   "sideBar": true,
   "skip_h1_title": false,
   "title_cell": "Table of Contents",
   "title_sidebar": "Contents",
   "toc_cell": false,
   "toc_position": {},
   "toc_section_display": true,
   "toc_window_display": true
  }
 },
 "nbformat": 4,
 "nbformat_minor": 5
}
